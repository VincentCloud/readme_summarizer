{
 "cells": [
  {
   "cell_type": "code",
   "execution_count": 145,
   "metadata": {},
   "outputs": [],
   "source": [
    "import re"
   ]
  },
  {
   "cell_type": "code",
   "execution_count": 146,
   "metadata": {},
   "outputs": [],
   "source": [
    "readme_df = pd.read_csv('/Users/vincenthuang/Development/Summer-2020/readme_summarizer/data/original_data/train.readme_data.csv')"
   ]
  },
  {
   "cell_type": "code",
   "execution_count": 147,
   "metadata": {},
   "outputs": [
    {
     "data": {
      "text/html": [
       "<div>\n",
       "<style scoped>\n",
       "    .dataframe tbody tr th:only-of-type {\n",
       "        vertical-align: middle;\n",
       "    }\n",
       "\n",
       "    .dataframe tbody tr th {\n",
       "        vertical-align: top;\n",
       "    }\n",
       "\n",
       "    .dataframe thead th {\n",
       "        text-align: right;\n",
       "    }\n",
       "</style>\n",
       "<table border=\"1\" class=\"dataframe\">\n",
       "  <thead>\n",
       "    <tr style=\"text-align: right;\">\n",
       "      <th></th>\n",
       "      <th>id</th>\n",
       "      <th>link</th>\n",
       "      <th>summary</th>\n",
       "      <th>readme</th>\n",
       "    </tr>\n",
       "  </thead>\n",
       "  <tbody>\n",
       "    <tr>\n",
       "      <th>0</th>\n",
       "      <td>136653971</td>\n",
       "      <td>https://api.github.com/repos/guiquan156/svgs2font</td>\n",
       "      <td>translate svgs to iconfont, and create demo</td>\n",
       "      <td># iconfont\\n\\n\\n### Install\\n```\\n[sudo] npm i...</td>\n",
       "    </tr>\n",
       "    <tr>\n",
       "      <th>1</th>\n",
       "      <td>137341400</td>\n",
       "      <td>https://api.github.com/repos/levi-turner/60f3c...</td>\n",
       "      <td>NodeJS process to monitor service uptime in Ql...</td>\n",
       "      <td># Contents\\n\\n* NotificationAdderListener.zip\\...</td>\n",
       "    </tr>\n",
       "    <tr>\n",
       "      <th>2</th>\n",
       "      <td>137111800</td>\n",
       "      <td>https://api.github.com/repos/fork-zone/guides-faq</td>\n",
       "      <td>Place to collect and organize resource documen...</td>\n",
       "      <td># guides-faq WIP\\nPlace to collect and organiz...</td>\n",
       "    </tr>\n",
       "    <tr>\n",
       "      <th>3</th>\n",
       "      <td>136909957</td>\n",
       "      <td>https://api.github.com/repos/alexhoma/routex.js</td>\n",
       "      <td>Tiny library to manage dynamic and universal r...</td>\n",
       "      <td>Routex.js\\nYes, another library to handle dyna...</td>\n",
       "    </tr>\n",
       "    <tr>\n",
       "      <th>4</th>\n",
       "      <td>137109302</td>\n",
       "      <td>https://api.github.com/repos/ezhaohongwei/leaf...</td>\n",
       "      <td>Custom Leaflet TileLayer using WebGL to colori...</td>\n",
       "      <td># Leaflet.TileLayer.GLColorScale\\n\\n### Custom...</td>\n",
       "    </tr>\n",
       "  </tbody>\n",
       "</table>\n",
       "</div>"
      ],
      "text/plain": [
       "          id                                               link  \\\n",
       "0  136653971  https://api.github.com/repos/guiquan156/svgs2font   \n",
       "1  137341400  https://api.github.com/repos/levi-turner/60f3c...   \n",
       "2  137111800  https://api.github.com/repos/fork-zone/guides-faq   \n",
       "3  136909957    https://api.github.com/repos/alexhoma/routex.js   \n",
       "4  137109302  https://api.github.com/repos/ezhaohongwei/leaf...   \n",
       "\n",
       "                                             summary  \\\n",
       "0        translate svgs to iconfont, and create demo   \n",
       "1  NodeJS process to monitor service uptime in Ql...   \n",
       "2  Place to collect and organize resource documen...   \n",
       "3  Tiny library to manage dynamic and universal r...   \n",
       "4  Custom Leaflet TileLayer using WebGL to colori...   \n",
       "\n",
       "                                              readme  \n",
       "0  # iconfont\\n\\n\\n### Install\\n```\\n[sudo] npm i...  \n",
       "1  # Contents\\n\\n* NotificationAdderListener.zip\\...  \n",
       "2  # guides-faq WIP\\nPlace to collect and organiz...  \n",
       "3  Routex.js\\nYes, another library to handle dyna...  \n",
       "4  # Leaflet.TileLayer.GLColorScale\\n\\n### Custom...  "
      ]
     },
     "execution_count": 147,
     "metadata": {},
     "output_type": "execute_result"
    }
   ],
   "source": [
    "readme_df.head()"
   ]
  },
  {
   "cell_type": "code",
   "execution_count": 148,
   "metadata": {},
   "outputs": [],
   "source": [
    "FAULTY_INDICES = []\n",
    "def bulk_delete_code_blocks(column_to_clean='readme'):\n",
    "    print('Deleting code blocks...')\n",
    "    for i in range(len(readm_df[column_to_clean])):\n",
    "        try:\n",
    "            with timeout(2, exception=RuntimeError):\n",
    "                read_df[column_to_clean][i] = delete_code_blocks2(readme_df[column_to_clean][i])\n",
    "        except RuntimeError:\n",
    "            FAULTY_INDICES.append(i)\n",
    "\n",
    "def delete_code_blocks2(readme):\n",
    "    substituted_text = re.sub(r'```.*?```', \"\",readme, re.MULTILINE, re.DOTALL)\n",
    "    substituted_text = re.sub(r'`.*?`', \"\", substituted_text, re.MULTILINE, re.DOTALL)\n",
    "    return substituted_text"
   ]
  },
  {
   "cell_type": "code",
   "execution_count": 149,
   "metadata": {},
   "outputs": [],
   "source": [
    "readme = readme_df['readme'][0]"
   ]
  },
  {
   "cell_type": "code",
   "execution_count": 150,
   "metadata": {},
   "outputs": [
    {
     "data": {
      "text/plain": [
       "\"# iconfont\\n\\n\\n### Install\\n```\\n[sudo] npm install -g svgs2font\\n```\\n\\n### CLI\\n\\n#### usage\\n```\\n  svgs2font --configFile iconfont.config.js\\n```\\n\\n#### iconfont.config.js\\n\\n```js\\nmodule.exports = {\\n  destDir: 'test/fonts/dest1', // output directory, default: fonts\\n  svgsPath: 'test/svgs', // svgs source, default: svgs\\n  fontName: 'fontName', // font family name, default: iconfont\\n  cssPrefix: 'cssPrefix', // css class prefix, default: icon\\n  className: 'className', // common class name, default: iconfont\\n  fontFileName: 'fontFileName', // output file name, default: iconfont\\n  iconInfos: { // the info of icons, default: {}\\n    'Dollar2': {\\n      unicode: '\\\\uE002', // specify the unicode of icon\\n      name: 'dollar2', // icon name, default: svg files name\\n      title: '美元' // icon title, it will show in demo, default: icon name\\n    },\\n    'check-circle': {\\n      unicode: '\\\\uE013',\\n      name: 'checkCircle',\\n      title: '检查圆形'\\n    }\\n  }\\n}\\n```\\n\\nThe [svgicons2svgfont](https://github.com/nfroidure/svgicons2svgfont#svgicons2svgfontoptions) are available:\\n\\n- options.fontName (required)\\n- options.fontWeight\\n- options.fontStyle\\n- options.fixedWidth\\n- options.centerHorizontally\\n- options.normalize\\n- options.fontHeight\\n- options.round\\n- options.descent\\n- options.metadata\\n- options.log\\n\\n\\n#### other options\\n\\nuse ```svgs2font -h``` to show all options;\\n\\n```\\n  -V  --version                      output the version number\\n  -f  --fontName [fontName]', 'fontFamily name in css, default: iconfont\\n  -F  --fontFileName [fontFileName]', 'filename of output file, default: iconfont\\n  -p  --cssPrefix [cssPrefix]', 'css classname prefix, default: icon\\n  -C  --className [className]', 'classname of common class for icon, default: iconfont\\n  -o  --output [output]', 'the dest directory of output file, default: fonts\\n  -s  --svgsPath [svgsPath]', 'the svgs source directory, default: svgs\\n  -u  --startUnicode [startUnicode]', 'the start unicode of icons, default: \\\\uE600\\n  -dm --isCreateDemo [isCreateDemo]', 'is create demo, default: true\\n  -c  --configFile [configFile]', 'an config file to config\\n  -i  --fontId [value]', 'the font id you want [fontname]\\n  -st --style [value]', 'the font style you want\\n  -we --weight [value]', 'the font weight you want\\n  -w  --fixedWidth', 'creates a monospace font of the width of the largest input icon\\n  -ch --centerhorizontally', 'calculate the bounds of a glyph and center it horizontally\\n  -n  --normalize', 'normalize icons by scaling them to the height of the highest icon\\n  -h  --height [value]', 'the output font height [MAX(icons.height)] (icons will be scaled so the highest has this height)\\n  -r  --round [value]', 'setup the SVG path rounding [10e12]\\n  -d  --descent [value]', 'the font descent [0]\\n  -a  --ascent [value]', 'the font ascent [height - descent]\\n  -a  --prependUnicode', 'prefix files with their automatically allocated unicode code point\\n  -m  --metadata', 'content of the metadata tag\\n```\\n\\n### use in node\\n\\n```\\nconst Svgs2font = require('svgs2font');\\nconst options = {}; // same with the exports of iconfont.config.js\\nconst svgs2font = new Svg2font(options);\\nsvgs2font.create();\\n```\\n\""
      ]
     },
     "execution_count": 150,
     "metadata": {},
     "output_type": "execute_result"
    }
   ],
   "source": [
    "readme"
   ]
  },
  {
   "cell_type": "code",
   "execution_count": 151,
   "metadata": {},
   "outputs": [
    {
     "data": {
      "text/plain": [
       "'# iconfont\\n\\n\\n### Install\\n\\n\\n### CLI\\n\\n#### usage\\n\\n\\n#### iconfont.config.js\\n\\n\\n\\nThe [svgicons2svgfont](https://github.com/nfroidure/svgicons2svgfont#svgicons2svgfontoptions) are available:\\n\\n- options.fontName (required)\\n- options.fontWeight\\n- options.fontStyle\\n- options.fixedWidth\\n- options.centerHorizontally\\n- options.normalize\\n- options.fontHeight\\n- options.round\\n- options.descent\\n- options.metadata\\n- options.log\\n\\n\\n#### other options\\n\\nuse  to show all options;\\n\\n\\n\\n### use in node\\n\\n\\n'"
      ]
     },
     "execution_count": 151,
     "metadata": {},
     "output_type": "execute_result"
    }
   ],
   "source": [
    "delete_code_blocks2(readme)"
   ]
  },
  {
   "cell_type": "code",
   "execution_count": 134,
   "metadata": {},
   "outputs": [],
   "source": [
    "ex_readme = pd.read_csv('/Users/vincenthuang/Development/Summer-2020/readme_summarizer/data/extractive_summarizations/extractive_summarizations.csv')"
   ]
  },
  {
   "cell_type": "code",
   "execution_count": 137,
   "metadata": {},
   "outputs": [
    {
     "data": {
      "text/plain": [
       "'https://api.github.com/repos/Tassakhi/mapboxgl-jupyter'"
      ]
     },
     "execution_count": 137,
     "metadata": {},
     "output_type": "execute_result"
    }
   ],
   "source": [
    "ex_readme['link'][180]"
   ]
  },
  {
   "cell_type": "code",
   "execution_count": 156,
   "metadata": {},
   "outputs": [],
   "source": [
    "import pandas as pd\n",
    "df = pd.read_csv('/Users/vincenthuang/Development/Summer-2020/readme_summarizer/data/extractive_summarizations/extractive_summarizations.csv')"
   ]
  },
  {
   "cell_type": "code",
   "execution_count": 157,
   "metadata": {},
   "outputs": [
    {
     "data": {
      "text/html": [
       "<div>\n",
       "<style scoped>\n",
       "    .dataframe tbody tr th:only-of-type {\n",
       "        vertical-align: middle;\n",
       "    }\n",
       "\n",
       "    .dataframe tbody tr th {\n",
       "        vertical-align: top;\n",
       "    }\n",
       "\n",
       "    .dataframe thead th {\n",
       "        text-align: right;\n",
       "    }\n",
       "</style>\n",
       "<table border=\"1\" class=\"dataframe\">\n",
       "  <thead>\n",
       "    <tr style=\"text-align: right;\">\n",
       "      <th></th>\n",
       "      <th>Unnamed: 0</th>\n",
       "      <th>id</th>\n",
       "      <th>link</th>\n",
       "      <th>summary</th>\n",
       "      <th>readme</th>\n",
       "      <th>lex_rank</th>\n",
       "      <th>edmunson</th>\n",
       "      <th>lead_cm</th>\n",
       "    </tr>\n",
       "  </thead>\n",
       "  <tbody>\n",
       "    <tr>\n",
       "      <th>0</th>\n",
       "      <td>0</td>\n",
       "      <td>136617793</td>\n",
       "      <td>https://api.github.com/repos/AllenWangle/Resea...</td>\n",
       "      <td>A paper list of my research line, welcome to d...</td>\n",
       "      <td>awesome paper list a collection of graph embed...</td>\n",
       "      <td>ai magazine 2008. other useful datasets link c...</td>\n",
       "      <td>awesome paper list a collection of graph embed...</td>\n",
       "      <td>awesome paper list a collection of graph embed...</td>\n",
       "    </tr>\n",
       "    <tr>\n",
       "      <th>1</th>\n",
       "      <td>1</td>\n",
       "      <td>136860222</td>\n",
       "      <td>https://api.github.com/repos/heikipikker/firmw...</td>\n",
       "      <td>Toolkit to emulate firmware and analyse it for...</td>\n",
       "      <td>firmware analysis toolkit fat is a toolkit bui...</td>\n",
       "      <td>install binwalk note alternatively you could a...</td>\n",
       "      <td>firmware analysis toolkit fat is a toolkit bui...</td>\n",
       "      <td>firmware analysis toolkit fat is a toolkit bui...</td>\n",
       "    </tr>\n",
       "    <tr>\n",
       "      <th>2</th>\n",
       "      <td>2</td>\n",
       "      <td>136792496</td>\n",
       "      <td>https://api.github.com/repos/shaunagm/governan...</td>\n",
       "      <td>Resources to help you choose a governance syst...</td>\n",
       "      <td>governance resources welcome to governance res...</td>\n",
       "      <td>project governance docs full case study rust r...</td>\n",
       "      <td>governance resources welcome to governance res...</td>\n",
       "      <td>governance resources welcome to governance res...</td>\n",
       "    </tr>\n",
       "    <tr>\n",
       "      <th>3</th>\n",
       "      <td>3</td>\n",
       "      <td>136898852</td>\n",
       "      <td>https://api.github.com/repos/srmagura/expo-pixi</td>\n",
       "      <td>Tools for using pixi.js in Expo</td>\n",
       "      <td>expopixi tools to use pixi.js in expo to get s...</td>\n",
       "      <td>sideeffects to use pixi.js with expo react nat...</td>\n",
       "      <td>expopixi tools to use pixi.js in expo to get s...</td>\n",
       "      <td>expopixi tools to use pixi</td>\n",
       "    </tr>\n",
       "    <tr>\n",
       "      <th>4</th>\n",
       "      <td>4</td>\n",
       "      <td>136699628</td>\n",
       "      <td>https://api.github.com/repos/tenfinney/graphql...</td>\n",
       "      <td>A library to help construct a graphql-js serve...</td>\n",
       "      <td>relay library for graphql.js this is a library...</td>\n",
       "      <td>connections helper functions are provided for ...</td>\n",
       "      <td>relay library for graphql.js this is a library...</td>\n",
       "      <td>relay library for graphql</td>\n",
       "    </tr>\n",
       "  </tbody>\n",
       "</table>\n",
       "</div>"
      ],
      "text/plain": [
       "   Unnamed: 0         id                                               link  \\\n",
       "0           0  136617793  https://api.github.com/repos/AllenWangle/Resea...   \n",
       "1           1  136860222  https://api.github.com/repos/heikipikker/firmw...   \n",
       "2           2  136792496  https://api.github.com/repos/shaunagm/governan...   \n",
       "3           3  136898852    https://api.github.com/repos/srmagura/expo-pixi   \n",
       "4           4  136699628  https://api.github.com/repos/tenfinney/graphql...   \n",
       "\n",
       "                                             summary  \\\n",
       "0  A paper list of my research line, welcome to d...   \n",
       "1  Toolkit to emulate firmware and analyse it for...   \n",
       "2  Resources to help you choose a governance syst...   \n",
       "3                    Tools for using pixi.js in Expo   \n",
       "4  A library to help construct a graphql-js serve...   \n",
       "\n",
       "                                              readme  \\\n",
       "0  awesome paper list a collection of graph embed...   \n",
       "1  firmware analysis toolkit fat is a toolkit bui...   \n",
       "2  governance resources welcome to governance res...   \n",
       "3  expopixi tools to use pixi.js in expo to get s...   \n",
       "4  relay library for graphql.js this is a library...   \n",
       "\n",
       "                                            lex_rank  \\\n",
       "0  ai magazine 2008. other useful datasets link c...   \n",
       "1  install binwalk note alternatively you could a...   \n",
       "2  project governance docs full case study rust r...   \n",
       "3  sideeffects to use pixi.js with expo react nat...   \n",
       "4  connections helper functions are provided for ...   \n",
       "\n",
       "                                            edmunson  \\\n",
       "0  awesome paper list a collection of graph embed...   \n",
       "1  firmware analysis toolkit fat is a toolkit bui...   \n",
       "2  governance resources welcome to governance res...   \n",
       "3  expopixi tools to use pixi.js in expo to get s...   \n",
       "4  relay library for graphql.js this is a library...   \n",
       "\n",
       "                                             lead_cm  \n",
       "0  awesome paper list a collection of graph embed...  \n",
       "1  firmware analysis toolkit fat is a toolkit bui...  \n",
       "2  governance resources welcome to governance res...  \n",
       "3                         expopixi tools to use pixi  \n",
       "4                          relay library for graphql  "
      ]
     },
     "execution_count": 157,
     "metadata": {},
     "output_type": "execute_result"
    }
   ],
   "source": [
    "df.head()"
   ]
  },
  {
   "cell_type": "code",
   "execution_count": 160,
   "metadata": {},
   "outputs": [
    {
     "data": {
      "text/plain": [
       "'.imgorgchef.png introduction orgchef is a package for managing recipes in orgmode. one of the main features is that it can automatically extract recipes from websites like allrecipes.com installation orgchef is available on melpa i manage my packages via httpsgithub.comjwiegleyusepackageusepackage. i have added this to my .emacs file to install orgchef beginsrc elisp require package addtolist packagearchives melpa . httpsmelpa.orgpackages t require usepackage usepackage orgchef ensure t endsrc orgcapture its recommended that you set up an orgcapture template to capture recipes. here is an example of that beginsrc lisp setq orgcapturetemplates c cookbook entry file orgcookbook.org orgchefgetrecipefromurl emptylines 1 m manual cookbook entry file orgcookbook.org recipe title n propertiesn sourceurln servingsn preptimen cooktimen readyinn endn ingredientsn n directionsnn endsrc when capturing to the cookbook it will prompt you for a url you can then paste a url like the following into the minibuffer and it will fill in as many details as it can. here is an example recipe httpallrecipes.comrecipe85452homemadeblackbeanveggieburgers which will be extracted to something like the following beginsrc org homemade black bean veggie burgers properties sourceurl httpswww.allrecipes.comrecipe85452homemadeblackbeanveggieburgers servings 4 preptime 15 m cooktime 20 m readyin 35 m end ingredients 1 16 ounce can black beans drained and rinsed 12 green bell pepper cut into 2 inch pieces 12 onion cut into wedges 3 cloves garlic peeled 1 egg 1 tablespoon chili powder 1 tablespoon cumin 1 teaspoon thai chili sauce or hot sauce 12 cup bread crumbs directions 1. if grilling preheat an outdoor grill for high heat and lightly oil a sheet of aluminum foil. if baking preheat oven to 375 degrees f 190 degrees c and lightly oil a baking sheet. 2. in a medium bowl mash black beans with a fork until thick and pasty. 3. in a food processor finely chop bell pepper onion and garlic. then stir into mashed beans. 4. in a small bowl stir together egg chili powder cumin and chili sauce. 5. stir the egg mixture into the mashed beans. mix in bread crumbs until the mixture is sticky and holds together. divide mixture into four patties. 6. if grilling place patties on foil and grill about 8 minutes on each side. if baking place patties on baking sheet and bake about 10 minutes on each side. endsrc additionally there is a capture template in there for manually entering a recipe if you so desire inserting at point you can also insert a recipe at point using the command orgchefinsertrecipe. supported sites the following websites should support recipe extraction httpallrecipes.com httpwww.geniuskitchen.com httpswww.simplyrecipes.com httpswww.marthastewart.com httpswww.budgetbytes.com httpswww.culturesforhealth.com httpswww.seriouseats.com httpwww.marmiton.org french httpswww.reluctantgourmet.com httpswww.chefkoch.de httpssteamykitchen.com httpsshowmetheyummy.com httpsnytimes.com httpwww.xiachufang.com 下厨房 chinese httpswww.finecooking.com any recipe site based on wordpress contributing contributions are very welcome feel free to open pull requests and issues and feel free to include a recipe that you like in it if you find a site that you like that doesnt currently work with orgchef then you should definitely let us know through a github issue orgchefs goal is to support as many sites as possible so missing websites are considered bugs additionally there is a orgchef channel on freenode that youre welcome to join. share recipes give each other orgchef tips be happy .'"
      ]
     },
     "execution_count": 160,
     "metadata": {},
     "output_type": "execute_result"
    }
   ],
   "source": [
    "df['readme'][208]"
   ]
  },
  {
   "cell_type": "code",
   "execution_count": null,
   "metadata": {},
   "outputs": [],
   "source": []
  }
 ],
 "metadata": {
  "kernelspec": {
   "display_name": "ml",
   "language": "python",
   "name": "ml"
  },
  "language_info": {
   "codemirror_mode": {
    "name": "ipython",
    "version": 3
   },
   "file_extension": ".py",
   "mimetype": "text/x-python",
   "name": "python",
   "nbconvert_exporter": "python",
   "pygments_lexer": "ipython3",
   "version": "3.7.6"
  }
 },
 "nbformat": 4,
 "nbformat_minor": 4
}
