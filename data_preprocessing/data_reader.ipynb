{
 "cells": [
  {
   "cell_type": "code",
   "execution_count": 1,
   "metadata": {
    "tags": []
   },
   "outputs": [],
   "source": [
    "import pandas as pd\n",
    "import numpy as np"
   ]
  },
  {
   "cell_type": "markdown",
   "metadata": {},
   "source": [
    "# Read the pickle file"
   ]
  },
  {
   "cell_type": "code",
   "execution_count": 2,
   "metadata": {},
   "outputs": [],
   "source": [
    "pp_dict = pd.read_pickle('/Users/vincenthuang/Development/Summer-2020/readme_summarizer/data/original_data/dataset_purpose.p')"
   ]
  },
  {
   "cell_type": "code",
   "execution_count": 3,
   "metadata": {},
   "outputs": [
    {
     "output_type": "execute_result",
     "data": {
      "text/plain": "                                           136912758  \\\n0  [study, and, develop, the, Linux, kernel, v5.1...   \n1  [https://api.github.com/repos/wataash/linux-ke...   \n\n                                           137175553  \\\n0                       [Connectwise, 's, REST, API]   \n1  [https://api.github.com/repos/visualitypl/conn...   \n\n                                           136936233  \\\n0                [activate, Renault, car, radios, .]   \n1  [https://api.github.com/repos/numediaweb/renau...   \n\n                                           136934744  \\\n0             [user, or, group, with, whatmate, api]   \n1  [https://api.github.com/repos/d-knafo/whatsapp...   \n\n                                           136639194  \\\n0                                      [applied, ai]   \n1  [https://api.github.com/repos/manojramamurthy/...   \n\n                                           136592003  \\\n0  [improve, NGINX, performance, ,, security, and...   \n1  [https://api.github.com/repos/0rac1e/nginx-adm...   \n\n                                           136672013  \\\n0  [an, interview, ,, conduct, one, ,, mock, your...   \n1  [https://api.github.com/repos/teaolivia/1001-F...   \n\n                                           136701247  \\\n0                         [your, next, interview, .]   \n1  [https://api.github.com/repos/lightwindy/30-se...   \n\n                                           136583735  \\\n0                   [learning, Computer, Science, !]   \n1  [https://api.github.com/repos/mikiec84/awesome...   \n\n                                           136632236  ...  \\\n0                         [manage, device, settings]  ...   \n1  [https://api.github.com/repos/dudesuh/cordova-...  ...   \n\n                                           137136718  \\\n0          [keep, track, of, monetary, transactions]   \n1  [https://api.github.com/repos/yashiroiori/lara...   \n\n                                           137501853  \\\n0  [modify, the, remote, website, response, with,...   \n1  [https://api.github.com/repos/cqhaohao/harmon,...   \n\n                                           136754295  \\\n0  [instance, ., This, is, a, subclass, of, PDFTe...   \n1  [https://api.github.com/repos/engaric/PDFLayou...   \n\n                                           136902119  \\\n0                [rendering, PDF, invoices, in, PHP]   \n1  [https://api.github.com/repos/cepa/faktura-php...   \n\n                                           137111540  \\\n0                  [dumping, DNS, Resource, Records]   \n1  [https://api.github.com/repos/JavaScriptDude/p...   \n\n                                           136761623  \\\n0  [understand, application, development, in, Cor...   \n1  [https://api.github.com/repos/arsulegai/corda-...   \n\n                                           136773151  \\\n0                        [wrangling, register, data]   \n1  [https://api.github.com/repos/psd/openregister...   \n\n                                           136810011  \\\n0  [use, data, from, multiple, ,, heterogenous, d...   \n1  [https://api.github.com/repos/heinrichsmythe/t...   \n\n                                           136870604  \\\n0                        [wrangling, register, data]   \n1  [https://api.github.com/repos/psd/openregister...   \n\n                                           136944672  \n0  [controlling, WS2812B, RGB, LEDs, with, an, ES...  \n1  [https://api.github.com/repos/unicornrobot/WLE...  \n\n[2 rows x 10915 columns]",
      "text/html": "<div>\n<style scoped>\n    .dataframe tbody tr th:only-of-type {\n        vertical-align: middle;\n    }\n\n    .dataframe tbody tr th {\n        vertical-align: top;\n    }\n\n    .dataframe thead th {\n        text-align: right;\n    }\n</style>\n<table border=\"1\" class=\"dataframe\">\n  <thead>\n    <tr style=\"text-align: right;\">\n      <th></th>\n      <th>136912758</th>\n      <th>137175553</th>\n      <th>136936233</th>\n      <th>136934744</th>\n      <th>136639194</th>\n      <th>136592003</th>\n      <th>136672013</th>\n      <th>136701247</th>\n      <th>136583735</th>\n      <th>136632236</th>\n      <th>...</th>\n      <th>137136718</th>\n      <th>137501853</th>\n      <th>136754295</th>\n      <th>136902119</th>\n      <th>137111540</th>\n      <th>136761623</th>\n      <th>136773151</th>\n      <th>136810011</th>\n      <th>136870604</th>\n      <th>136944672</th>\n    </tr>\n  </thead>\n  <tbody>\n    <tr>\n      <th>0</th>\n      <td>[study, and, develop, the, Linux, kernel, v5.1...</td>\n      <td>[Connectwise, 's, REST, API]</td>\n      <td>[activate, Renault, car, radios, .]</td>\n      <td>[user, or, group, with, whatmate, api]</td>\n      <td>[applied, ai]</td>\n      <td>[improve, NGINX, performance, ,, security, and...</td>\n      <td>[an, interview, ,, conduct, one, ,, mock, your...</td>\n      <td>[your, next, interview, .]</td>\n      <td>[learning, Computer, Science, !]</td>\n      <td>[manage, device, settings]</td>\n      <td>...</td>\n      <td>[keep, track, of, monetary, transactions]</td>\n      <td>[modify, the, remote, website, response, with,...</td>\n      <td>[instance, ., This, is, a, subclass, of, PDFTe...</td>\n      <td>[rendering, PDF, invoices, in, PHP]</td>\n      <td>[dumping, DNS, Resource, Records]</td>\n      <td>[understand, application, development, in, Cor...</td>\n      <td>[wrangling, register, data]</td>\n      <td>[use, data, from, multiple, ,, heterogenous, d...</td>\n      <td>[wrangling, register, data]</td>\n      <td>[controlling, WS2812B, RGB, LEDs, with, an, ES...</td>\n    </tr>\n    <tr>\n      <th>1</th>\n      <td>[https://api.github.com/repos/wataash/linux-ke...</td>\n      <td>[https://api.github.com/repos/visualitypl/conn...</td>\n      <td>[https://api.github.com/repos/numediaweb/renau...</td>\n      <td>[https://api.github.com/repos/d-knafo/whatsapp...</td>\n      <td>[https://api.github.com/repos/manojramamurthy/...</td>\n      <td>[https://api.github.com/repos/0rac1e/nginx-adm...</td>\n      <td>[https://api.github.com/repos/teaolivia/1001-F...</td>\n      <td>[https://api.github.com/repos/lightwindy/30-se...</td>\n      <td>[https://api.github.com/repos/mikiec84/awesome...</td>\n      <td>[https://api.github.com/repos/dudesuh/cordova-...</td>\n      <td>...</td>\n      <td>[https://api.github.com/repos/yashiroiori/lara...</td>\n      <td>[https://api.github.com/repos/cqhaohao/harmon,...</td>\n      <td>[https://api.github.com/repos/engaric/PDFLayou...</td>\n      <td>[https://api.github.com/repos/cepa/faktura-php...</td>\n      <td>[https://api.github.com/repos/JavaScriptDude/p...</td>\n      <td>[https://api.github.com/repos/arsulegai/corda-...</td>\n      <td>[https://api.github.com/repos/psd/openregister...</td>\n      <td>[https://api.github.com/repos/heinrichsmythe/t...</td>\n      <td>[https://api.github.com/repos/psd/openregister...</td>\n      <td>[https://api.github.com/repos/unicornrobot/WLE...</td>\n    </tr>\n  </tbody>\n</table>\n<p>2 rows × 10915 columns</p>\n</div>"
     },
     "metadata": {},
     "execution_count": 3
    }
   ],
   "source": [
    "pp_df = pd.DataFrame(pp_dict)\n",
    "pp_df.head()"
   ]
  },
  {
   "cell_type": "code",
   "execution_count": 4,
   "metadata": {},
   "outputs": [
    {
     "output_type": "execute_result",
     "data": {
      "text/plain": "                                                           0  \\\n136912758  [study, and, develop, the, Linux, kernel, v5.1...   \n137175553                       [Connectwise, 's, REST, API]   \n136936233                [activate, Renault, car, radios, .]   \n136934744             [user, or, group, with, whatmate, api]   \n136639194                                      [applied, ai]   \n\n                                                           1  \n136912758  [https://api.github.com/repos/wataash/linux-ke...  \n137175553  [https://api.github.com/repos/visualitypl/conn...  \n136936233  [https://api.github.com/repos/numediaweb/renau...  \n136934744  [https://api.github.com/repos/d-knafo/whatsapp...  \n136639194  [https://api.github.com/repos/manojramamurthy/...  ",
      "text/html": "<div>\n<style scoped>\n    .dataframe tbody tr th:only-of-type {\n        vertical-align: middle;\n    }\n\n    .dataframe tbody tr th {\n        vertical-align: top;\n    }\n\n    .dataframe thead th {\n        text-align: right;\n    }\n</style>\n<table border=\"1\" class=\"dataframe\">\n  <thead>\n    <tr style=\"text-align: right;\">\n      <th></th>\n      <th>0</th>\n      <th>1</th>\n    </tr>\n  </thead>\n  <tbody>\n    <tr>\n      <th>136912758</th>\n      <td>[study, and, develop, the, Linux, kernel, v5.1...</td>\n      <td>[https://api.github.com/repos/wataash/linux-ke...</td>\n    </tr>\n    <tr>\n      <th>137175553</th>\n      <td>[Connectwise, 's, REST, API]</td>\n      <td>[https://api.github.com/repos/visualitypl/conn...</td>\n    </tr>\n    <tr>\n      <th>136936233</th>\n      <td>[activate, Renault, car, radios, .]</td>\n      <td>[https://api.github.com/repos/numediaweb/renau...</td>\n    </tr>\n    <tr>\n      <th>136934744</th>\n      <td>[user, or, group, with, whatmate, api]</td>\n      <td>[https://api.github.com/repos/d-knafo/whatsapp...</td>\n    </tr>\n    <tr>\n      <th>136639194</th>\n      <td>[applied, ai]</td>\n      <td>[https://api.github.com/repos/manojramamurthy/...</td>\n    </tr>\n  </tbody>\n</table>\n</div>"
     },
     "metadata": {},
     "execution_count": 4
    }
   ],
   "source": [
    "# Transpose the dataset\n",
    "pp_df = pp_df.transpose()\n",
    "pp_df.head()"
   ]
  },
  {
   "cell_type": "code",
   "execution_count": 6,
   "metadata": {},
   "outputs": [
    {
     "output_type": "execute_result",
     "data": {
      "text/plain": "                                                     purpose  \\\n136912758  [study, and, develop, the, Linux, kernel, v5.1...   \n137175553                       [Connectwise, 's, REST, API]   \n136936233                [activate, Renault, car, radios, .]   \n136934744             [user, or, group, with, whatmate, api]   \n136639194                                      [applied, ai]   \n\n                                                        link  \n136912758  [https://api.github.com/repos/wataash/linux-ke...  \n137175553  [https://api.github.com/repos/visualitypl/conn...  \n136936233  [https://api.github.com/repos/numediaweb/renau...  \n136934744  [https://api.github.com/repos/d-knafo/whatsapp...  \n136639194  [https://api.github.com/repos/manojramamurthy/...  ",
      "text/html": "<div>\n<style scoped>\n    .dataframe tbody tr th:only-of-type {\n        vertical-align: middle;\n    }\n\n    .dataframe tbody tr th {\n        vertical-align: top;\n    }\n\n    .dataframe thead th {\n        text-align: right;\n    }\n</style>\n<table border=\"1\" class=\"dataframe\">\n  <thead>\n    <tr style=\"text-align: right;\">\n      <th></th>\n      <th>purpose</th>\n      <th>link</th>\n    </tr>\n  </thead>\n  <tbody>\n    <tr>\n      <th>136912758</th>\n      <td>[study, and, develop, the, Linux, kernel, v5.1...</td>\n      <td>[https://api.github.com/repos/wataash/linux-ke...</td>\n    </tr>\n    <tr>\n      <th>137175553</th>\n      <td>[Connectwise, 's, REST, API]</td>\n      <td>[https://api.github.com/repos/visualitypl/conn...</td>\n    </tr>\n    <tr>\n      <th>136936233</th>\n      <td>[activate, Renault, car, radios, .]</td>\n      <td>[https://api.github.com/repos/numediaweb/renau...</td>\n    </tr>\n    <tr>\n      <th>136934744</th>\n      <td>[user, or, group, with, whatmate, api]</td>\n      <td>[https://api.github.com/repos/d-knafo/whatsapp...</td>\n    </tr>\n    <tr>\n      <th>136639194</th>\n      <td>[applied, ai]</td>\n      <td>[https://api.github.com/repos/manojramamurthy/...</td>\n    </tr>\n  </tbody>\n</table>\n</div>"
     },
     "metadata": {},
     "execution_count": 6
    }
   ],
   "source": [
    "pp_df.columns = ['purpose', 'link']\n",
    "pp_df.head()"
   ]
  },
  {
   "cell_type": "markdown",
   "metadata": {},
   "source": [
    "# Add the purpose column into the original data"
   ]
  },
  {
   "cell_type": "markdown",
   "metadata": {},
   "source": [
    "## Load the full dataset"
   ]
  },
  {
   "cell_type": "code",
   "execution_count": 7,
   "metadata": {},
   "outputs": [
    {
     "output_type": "execute_result",
     "data": {
      "text/plain": "                                                           0  \\\n136912758  https://api.github.com/repos/wataash/linux-ker...   \n137175553  https://api.github.com/repos/visualitypl/conne...   \n136936233  https://api.github.com/repos/numediaweb/renaul...   \n136934744  https://api.github.com/repos/d-knafo/whatsapp-api   \n136639194  https://api.github.com/repos/manojramamurthy/a...   \n\n                                                           1  \\\n136912758  The perfect emulation setup to study and devel...   \n137175553  A gem to provide a ruby client to Connectwise'...   \n136936233  List of all security codes required to activat...   \n136934744  Api for sending whattsap message/image/documen...   \n136639194                              roadmap to applied ai   \n\n                                                           2  \n136912758  = Linux Kernel Module Cheat\\n:description: The...  \n137175553  # connectwise-ruby-sdk\\n\\nConnectWise - the Ru...  \n136936233  Liste de tous les codes de sécurité à utiliser...  \n136934744  # Whattsap API (via whatmate)\\n\\nApi for sendi...  \n136639194  > Applications of AI : Industrial\\n\\n---------...  ",
      "text/html": "<div>\n<style scoped>\n    .dataframe tbody tr th:only-of-type {\n        vertical-align: middle;\n    }\n\n    .dataframe tbody tr th {\n        vertical-align: top;\n    }\n\n    .dataframe thead th {\n        text-align: right;\n    }\n</style>\n<table border=\"1\" class=\"dataframe\">\n  <thead>\n    <tr style=\"text-align: right;\">\n      <th></th>\n      <th>0</th>\n      <th>1</th>\n      <th>2</th>\n    </tr>\n  </thead>\n  <tbody>\n    <tr>\n      <th>136912758</th>\n      <td>https://api.github.com/repos/wataash/linux-ker...</td>\n      <td>The perfect emulation setup to study and devel...</td>\n      <td>= Linux Kernel Module Cheat\\n:description: The...</td>\n    </tr>\n    <tr>\n      <th>137175553</th>\n      <td>https://api.github.com/repos/visualitypl/conne...</td>\n      <td>A gem to provide a ruby client to Connectwise'...</td>\n      <td># connectwise-ruby-sdk\\n\\nConnectWise - the Ru...</td>\n    </tr>\n    <tr>\n      <th>136936233</th>\n      <td>https://api.github.com/repos/numediaweb/renaul...</td>\n      <td>List of all security codes required to activat...</td>\n      <td>Liste de tous les codes de sécurité à utiliser...</td>\n    </tr>\n    <tr>\n      <th>136934744</th>\n      <td>https://api.github.com/repos/d-knafo/whatsapp-api</td>\n      <td>Api for sending whattsap message/image/documen...</td>\n      <td># Whattsap API (via whatmate)\\n\\nApi for sendi...</td>\n    </tr>\n    <tr>\n      <th>136639194</th>\n      <td>https://api.github.com/repos/manojramamurthy/a...</td>\n      <td>roadmap to applied ai</td>\n      <td>&gt; Applications of AI : Industrial\\n\\n---------...</td>\n    </tr>\n  </tbody>\n</table>\n</div>"
     },
     "metadata": {},
     "execution_count": 7
    }
   ],
   "source": [
    "readme_dict = pd.read_pickle('/Users/vincenthuang/Development/Summer-2020/readme_summarizer/data/original_data/finalReposDataset.p')\n",
    "readme_df = pd.DataFrame(readme_dict).transpose()\n",
    "readme_df.head()\n"
   ]
  },
  {
   "cell_type": "code",
   "execution_count": 8,
   "metadata": {},
   "outputs": [
    {
     "output_type": "execute_result",
     "data": {
      "text/plain": "                                                        link  \\\n136912758  https://api.github.com/repos/wataash/linux-ker...   \n137175553  https://api.github.com/repos/visualitypl/conne...   \n136936233  https://api.github.com/repos/numediaweb/renaul...   \n136934744  https://api.github.com/repos/d-knafo/whatsapp-api   \n136639194  https://api.github.com/repos/manojramamurthy/a...   \n\n                                                     summary  \\\n136912758  The perfect emulation setup to study and devel...   \n137175553  A gem to provide a ruby client to Connectwise'...   \n136936233  List of all security codes required to activat...   \n136934744  Api for sending whattsap message/image/documen...   \n136639194                              roadmap to applied ai   \n\n                                                      readme  \n136912758  = Linux Kernel Module Cheat\\n:description: The...  \n137175553  # connectwise-ruby-sdk\\n\\nConnectWise - the Ru...  \n136936233  Liste de tous les codes de sécurité à utiliser...  \n136934744  # Whattsap API (via whatmate)\\n\\nApi for sendi...  \n136639194  > Applications of AI : Industrial\\n\\n---------...  ",
      "text/html": "<div>\n<style scoped>\n    .dataframe tbody tr th:only-of-type {\n        vertical-align: middle;\n    }\n\n    .dataframe tbody tr th {\n        vertical-align: top;\n    }\n\n    .dataframe thead th {\n        text-align: right;\n    }\n</style>\n<table border=\"1\" class=\"dataframe\">\n  <thead>\n    <tr style=\"text-align: right;\">\n      <th></th>\n      <th>link</th>\n      <th>summary</th>\n      <th>readme</th>\n    </tr>\n  </thead>\n  <tbody>\n    <tr>\n      <th>136912758</th>\n      <td>https://api.github.com/repos/wataash/linux-ker...</td>\n      <td>The perfect emulation setup to study and devel...</td>\n      <td>= Linux Kernel Module Cheat\\n:description: The...</td>\n    </tr>\n    <tr>\n      <th>137175553</th>\n      <td>https://api.github.com/repos/visualitypl/conne...</td>\n      <td>A gem to provide a ruby client to Connectwise'...</td>\n      <td># connectwise-ruby-sdk\\n\\nConnectWise - the Ru...</td>\n    </tr>\n    <tr>\n      <th>136936233</th>\n      <td>https://api.github.com/repos/numediaweb/renaul...</td>\n      <td>List of all security codes required to activat...</td>\n      <td>Liste de tous les codes de sécurité à utiliser...</td>\n    </tr>\n    <tr>\n      <th>136934744</th>\n      <td>https://api.github.com/repos/d-knafo/whatsapp-api</td>\n      <td>Api for sending whattsap message/image/documen...</td>\n      <td># Whattsap API (via whatmate)\\n\\nApi for sendi...</td>\n    </tr>\n    <tr>\n      <th>136639194</th>\n      <td>https://api.github.com/repos/manojramamurthy/a...</td>\n      <td>roadmap to applied ai</td>\n      <td>&gt; Applications of AI : Industrial\\n\\n---------...</td>\n    </tr>\n  </tbody>\n</table>\n</div>"
     },
     "metadata": {},
     "execution_count": 8
    }
   ],
   "source": [
    "# Set the column names\n",
    "readme_df.columns = ['link', 'summary', 'readme']\n",
    "readme_df.head()"
   ]
  },
  {
   "cell_type": "code",
   "execution_count": 9,
   "metadata": {},
   "outputs": [
    {
     "output_type": "execute_result",
     "data": {
      "text/plain": "                                                        link  \\\n136912758  https://api.github.com/repos/wataash/linux-ker...   \n137175553  https://api.github.com/repos/visualitypl/conne...   \n136936233  https://api.github.com/repos/numediaweb/renaul...   \n136934744  https://api.github.com/repos/d-knafo/whatsapp-api   \n136639194  https://api.github.com/repos/manojramamurthy/a...   \n\n                                                     summary  \\\n136912758  The perfect emulation setup to study and devel...   \n137175553  A gem to provide a ruby client to Connectwise'...   \n136936233  List of all security codes required to activat...   \n136934744  Api for sending whattsap message/image/documen...   \n136639194                              roadmap to applied ai   \n\n                                                      readme  \\\n136912758  = Linux Kernel Module Cheat\\n:description: The...   \n137175553  # connectwise-ruby-sdk\\n\\nConnectWise - the Ru...   \n136936233  Liste de tous les codes de sécurité à utiliser...   \n136934744  # Whattsap API (via whatmate)\\n\\nApi for sendi...   \n136639194  > Applications of AI : Industrial\\n\\n---------...   \n\n                                                     purpose  \n136912758  [study, and, develop, the, Linux, kernel, v5.1...  \n137175553                       [Connectwise, 's, REST, API]  \n136936233                [activate, Renault, car, radios, .]  \n136934744             [user, or, group, with, whatmate, api]  \n136639194                                      [applied, ai]  ",
      "text/html": "<div>\n<style scoped>\n    .dataframe tbody tr th:only-of-type {\n        vertical-align: middle;\n    }\n\n    .dataframe tbody tr th {\n        vertical-align: top;\n    }\n\n    .dataframe thead th {\n        text-align: right;\n    }\n</style>\n<table border=\"1\" class=\"dataframe\">\n  <thead>\n    <tr style=\"text-align: right;\">\n      <th></th>\n      <th>link</th>\n      <th>summary</th>\n      <th>readme</th>\n      <th>purpose</th>\n    </tr>\n  </thead>\n  <tbody>\n    <tr>\n      <th>136912758</th>\n      <td>https://api.github.com/repos/wataash/linux-ker...</td>\n      <td>The perfect emulation setup to study and devel...</td>\n      <td>= Linux Kernel Module Cheat\\n:description: The...</td>\n      <td>[study, and, develop, the, Linux, kernel, v5.1...</td>\n    </tr>\n    <tr>\n      <th>137175553</th>\n      <td>https://api.github.com/repos/visualitypl/conne...</td>\n      <td>A gem to provide a ruby client to Connectwise'...</td>\n      <td># connectwise-ruby-sdk\\n\\nConnectWise - the Ru...</td>\n      <td>[Connectwise, 's, REST, API]</td>\n    </tr>\n    <tr>\n      <th>136936233</th>\n      <td>https://api.github.com/repos/numediaweb/renaul...</td>\n      <td>List of all security codes required to activat...</td>\n      <td>Liste de tous les codes de sécurité à utiliser...</td>\n      <td>[activate, Renault, car, radios, .]</td>\n    </tr>\n    <tr>\n      <th>136934744</th>\n      <td>https://api.github.com/repos/d-knafo/whatsapp-api</td>\n      <td>Api for sending whattsap message/image/documen...</td>\n      <td># Whattsap API (via whatmate)\\n\\nApi for sendi...</td>\n      <td>[user, or, group, with, whatmate, api]</td>\n    </tr>\n    <tr>\n      <th>136639194</th>\n      <td>https://api.github.com/repos/manojramamurthy/a...</td>\n      <td>roadmap to applied ai</td>\n      <td>&gt; Applications of AI : Industrial\\n\\n---------...</td>\n      <td>[applied, ai]</td>\n    </tr>\n  </tbody>\n</table>\n</div>"
     },
     "metadata": {},
     "execution_count": 9
    }
   ],
   "source": [
    "readme_df['purpose'] = pp_df['purpose']\n",
    "readme_df.head()"
   ]
  },
  {
   "cell_type": "code",
   "execution_count": 14,
   "metadata": {},
   "outputs": [],
   "source": [
    "np.random.seed(0)\n",
    "train, validate, test = np.split(readme_df.sample(frac=1), [int(.8*len(readme_df)), int(.9*len(readme_df))])"
   ]
  },
  {
   "cell_type": "code",
   "execution_count": 19,
   "metadata": {},
   "outputs": [],
   "source": [
    "train.to_csv('/Users/vincenthuang/Development/Summer-2020/readme_summarizer/data/original_data/train.readme_data_with_purpose.csv')\n",
    "validate.to_csv('/Users/vincenthuang/Development/Summer-2020/readme_summarizer/data/original_data/valid.readme_data_with_purpose.csv')\n",
    "test.to_csv('/Users/vincenthuang/Development/Summer-2020/readme_summarizer/data/original_data/test.readme_data_with_purpose.csv')"
   ]
  },
  {
   "cell_type": "code",
   "execution_count": null,
   "metadata": {},
   "outputs": [],
   "source": []
  }
 ],
 "metadata": {
  "language_info": {
   "codemirror_mode": {
    "name": "ipython",
    "version": 3
   },
   "file_extension": ".py",
   "mimetype": "text/x-python",
   "name": "python",
   "nbconvert_exporter": "python",
   "pygments_lexer": "ipython3",
   "version": "3.7.6-final"
  },
  "orig_nbformat": 2,
  "kernelspec": {
   "name": "ml",
   "display_name": "ml"
  }
 },
 "nbformat": 4,
 "nbformat_minor": 2
}