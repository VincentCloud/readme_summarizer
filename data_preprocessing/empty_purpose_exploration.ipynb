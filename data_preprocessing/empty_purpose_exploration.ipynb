{
 "metadata": {
  "language_info": {
   "codemirror_mode": {
    "name": "ipython",
    "version": 3
   },
   "file_extension": ".py",
   "mimetype": "text/x-python",
   "name": "python",
   "nbconvert_exporter": "python",
   "pygments_lexer": "ipython3",
   "version": "3.7.6-final"
  },
  "orig_nbformat": 2,
  "kernelspec": {
   "name": "ml",
   "display_name": "ml"
  }
 },
 "nbformat": 4,
 "nbformat_minor": 2,
 "cells": [
  {
   "cell_type": "markdown",
   "metadata": {},
   "source": [
    "# Load the Dataset"
   ]
  },
  {
   "cell_type": "code",
   "execution_count": 76,
   "metadata": {},
   "outputs": [],
   "source": [
    "import pandas as pd \n",
    "train_df = pd.read_csv('/Users/vincenthuang/Development/Summer-2020/readme_summarizer/data/cleaned_data/train.cleaned_readme_data_with_purpose.csv').drop('Unnamed: 0', 1)\n",
    "train_df.columns = ['id', 'link', 'summary', 'readme', 'purpose']\n",
    "valid_df = pd.read_csv('/Users/vincenthuang/Development/Summer-2020/readme_summarizer/data/cleaned_data/valid.cleaned_readme_data_with_purpose.csv').drop('Unnamed: 0', 1)\n",
    "valid_df.columns = ['id', 'link', 'summary', 'readme', 'purpose']\n",
    "test_df = pd.read_csv('/Users/vincenthuang/Development/Summer-2020/readme_summarizer/data/cleaned_data/test.cleaned_readme_data_with_purpose.csv').drop('Unnamed: 0', 1)\n",
    "test_df.columns = ['id', 'link', 'summary', 'readme', 'purpose']"
   ]
  },
  {
   "cell_type": "markdown",
   "metadata": {},
   "source": [
    "# Locate the rows with empty cells in purpose"
   ]
  },
  {
   "cell_type": "code",
   "execution_count": 62,
   "metadata": {},
   "outputs": [],
   "source": [
    "def drop_na_roles(df, column='purpose'):\n",
    "    df.dropna(subset=['purpose'], inplace=True)"
   ]
  },
  {
   "cell_type": "code",
   "execution_count": 63,
   "metadata": {},
   "outputs": [],
   "source": [
    "drop_na_roles(train_df)\n",
    "drop_na_roles(valid_df)\n",
    "drop_na_roles(test_df)"
   ]
  },
  {
   "cell_type": "code",
   "execution_count": 77,
   "metadata": {},
   "outputs": [],
   "source": [
    "train_na = train_df.loc[train_df['purpose'].isnull(), :]\n",
    "valid_na = valid_df.loc[valid_df['purpose'].isnull(), :]\n",
    "test_na = test_df.loc[test_df['purpose'].isnull(), :]\n"
   ]
  },
  {
   "cell_type": "code",
   "execution_count": 78,
   "metadata": {},
   "outputs": [
    {
     "output_type": "execute_result",
     "data": {
      "text/plain": "Empty DataFrame\nColumns: [id, link, summary, readme, purpose]\nIndex: []",
      "text/html": "<div>\n<style scoped>\n    .dataframe tbody tr th:only-of-type {\n        vertical-align: middle;\n    }\n\n    .dataframe tbody tr th {\n        vertical-align: top;\n    }\n\n    .dataframe thead th {\n        text-align: right;\n    }\n</style>\n<table border=\"1\" class=\"dataframe\">\n  <thead>\n    <tr style=\"text-align: right;\">\n      <th></th>\n      <th>id</th>\n      <th>link</th>\n      <th>summary</th>\n      <th>readme</th>\n      <th>purpose</th>\n    </tr>\n  </thead>\n  <tbody>\n  </tbody>\n</table>\n</div>"
     },
     "metadata": {},
     "execution_count": 78
    }
   ],
   "source": [
    "train_na"
   ]
  },
  {
   "cell_type": "code",
   "execution_count": 73,
   "metadata": {},
   "outputs": [
    {
     "output_type": "execute_result",
     "data": {
      "text/plain": "Empty DataFrame\nColumns: [id, link, summary, readme, purpose]\nIndex: []",
      "text/html": "<div>\n<style scoped>\n    .dataframe tbody tr th:only-of-type {\n        vertical-align: middle;\n    }\n\n    .dataframe tbody tr th {\n        vertical-align: top;\n    }\n\n    .dataframe thead th {\n        text-align: right;\n    }\n</style>\n<table border=\"1\" class=\"dataframe\">\n  <thead>\n    <tr style=\"text-align: right;\">\n      <th></th>\n      <th>id</th>\n      <th>link</th>\n      <th>summary</th>\n      <th>readme</th>\n      <th>purpose</th>\n    </tr>\n  </thead>\n  <tbody>\n  </tbody>\n</table>\n</div>"
     },
     "metadata": {},
     "execution_count": 73
    }
   ],
   "source": [
    "valid_na"
   ]
  },
  {
   "cell_type": "code",
   "execution_count": 74,
   "metadata": {},
   "outputs": [
    {
     "output_type": "execute_result",
     "data": {
      "text/plain": "Empty DataFrame\nColumns: [id, link, summary, readme, purpose]\nIndex: []",
      "text/html": "<div>\n<style scoped>\n    .dataframe tbody tr th:only-of-type {\n        vertical-align: middle;\n    }\n\n    .dataframe tbody tr th {\n        vertical-align: top;\n    }\n\n    .dataframe thead th {\n        text-align: right;\n    }\n</style>\n<table border=\"1\" class=\"dataframe\">\n  <thead>\n    <tr style=\"text-align: right;\">\n      <th></th>\n      <th>id</th>\n      <th>link</th>\n      <th>summary</th>\n      <th>readme</th>\n      <th>purpose</th>\n    </tr>\n  </thead>\n  <tbody>\n  </tbody>\n</table>\n</div>"
     },
     "metadata": {},
     "execution_count": 74
    }
   ],
   "source": [
    "test_na"
   ]
  },
  {
   "cell_type": "code",
   "execution_count": 75,
   "metadata": {},
   "outputs": [
    {
     "output_type": "execute_result",
     "data": {
      "text/plain": "          id                                               link  \\\n0  136928544  https://api.github.com/repos/bakapita10/Heuris...   \n1  136702466  https://api.github.com/repos/Matthew-Whitlock/...   \n2  137557111  https://api.github.com/repos/s11r11/Document-M...   \n3  136878145  https://api.github.com/repos/edxu96/DantzigWol...   \n4  136787679  https://api.github.com/repos/yannvanhalewyn/or...   \n\n                                             summary  \\\n0  Using simulated annealing to find an acceptabl...   \n1  A C/C++ task-based programming model for share...   \n2  DocKip is a document management system for man...   \n3  Dantzig-Wolfe series of decomposition and refo...   \n4     Clojure tool to sync org timesheets to harvest   \n\n                                              readme  \\\n0  compx30119a — assignment four heuristic algori...   \n1  hclib hclib is a taskbased parallel programmin...   \n2  dockip dockip is a rolebased document manageme...   \n3  dantzigwolfedecomposition dantzigwolfe series ...   \n4  org harvest timesheet a command line tool buil...   \n\n                                             purpose  \n0                            a box stacking problem   \n1  shared memory and distributed parallel computing   \n2  managing and sharing documents Staging http do...  \n3                                         solve MILP  \n4                                            harvest  ",
      "text/html": "<div>\n<style scoped>\n    .dataframe tbody tr th:only-of-type {\n        vertical-align: middle;\n    }\n\n    .dataframe tbody tr th {\n        vertical-align: top;\n    }\n\n    .dataframe thead th {\n        text-align: right;\n    }\n</style>\n<table border=\"1\" class=\"dataframe\">\n  <thead>\n    <tr style=\"text-align: right;\">\n      <th></th>\n      <th>id</th>\n      <th>link</th>\n      <th>summary</th>\n      <th>readme</th>\n      <th>purpose</th>\n    </tr>\n  </thead>\n  <tbody>\n    <tr>\n      <th>0</th>\n      <td>136928544</td>\n      <td>https://api.github.com/repos/bakapita10/Heuris...</td>\n      <td>Using simulated annealing to find an acceptabl...</td>\n      <td>compx30119a — assignment four heuristic algori...</td>\n      <td>a box stacking problem</td>\n    </tr>\n    <tr>\n      <th>1</th>\n      <td>136702466</td>\n      <td>https://api.github.com/repos/Matthew-Whitlock/...</td>\n      <td>A C/C++ task-based programming model for share...</td>\n      <td>hclib hclib is a taskbased parallel programmin...</td>\n      <td>shared memory and distributed parallel computing</td>\n    </tr>\n    <tr>\n      <th>2</th>\n      <td>137557111</td>\n      <td>https://api.github.com/repos/s11r11/Document-M...</td>\n      <td>DocKip is a document management system for man...</td>\n      <td>dockip dockip is a rolebased document manageme...</td>\n      <td>managing and sharing documents Staging http do...</td>\n    </tr>\n    <tr>\n      <th>3</th>\n      <td>136878145</td>\n      <td>https://api.github.com/repos/edxu96/DantzigWol...</td>\n      <td>Dantzig-Wolfe series of decomposition and refo...</td>\n      <td>dantzigwolfedecomposition dantzigwolfe series ...</td>\n      <td>solve MILP</td>\n    </tr>\n    <tr>\n      <th>4</th>\n      <td>136787679</td>\n      <td>https://api.github.com/repos/yannvanhalewyn/or...</td>\n      <td>Clojure tool to sync org timesheets to harvest</td>\n      <td>org harvest timesheet a command line tool buil...</td>\n      <td>harvest</td>\n    </tr>\n  </tbody>\n</table>\n</div>"
     },
     "metadata": {},
     "execution_count": 75
    }
   ],
   "source": [
    "train_df.head()"
   ]
  },
  {
   "cell_type": "code",
   "execution_count": 69,
   "metadata": {},
   "outputs": [],
   "source": [
    "# Export to csv\n",
    "\n",
    "train_df.to_csv('/Users/vincenthuang/Development/Summer-2020/readme_summarizer/data/cleaned_data/train.cleaned_readme_data_with_purpose.csv')\n",
    "valid_df.to_csv('/Users/vincenthuang/Development/Summer-2020/readme_summarizer/data/cleaned_data/valid.cleaned_readme_data_with_purpose.csv')\n",
    "test_df.to_csv('/Users/vincenthuang/Development/Summer-2020/readme_summarizer/data/cleaned_data/test.cleaned_readme_data_with_purpose.csv')"
   ]
  },
  {
   "cell_type": "code",
   "execution_count": null,
   "metadata": {},
   "outputs": [],
   "source": []
  }
 ]
}