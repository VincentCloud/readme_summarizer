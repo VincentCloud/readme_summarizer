{
 "metadata": {
  "language_info": {
   "codemirror_mode": {
    "name": "ipython",
    "version": 3
   },
   "file_extension": ".py",
   "mimetype": "text/x-python",
   "name": "python",
   "nbconvert_exporter": "python",
   "pygments_lexer": "ipython3",
   "version": "3.7.6-final"
  },
  "orig_nbformat": 2,
  "kernelspec": {
   "name": "ml",
   "display_name": "ml"
  }
 },
 "nbformat": 4,
 "nbformat_minor": 2,
 "cells": [
  {
   "cell_type": "markdown",
   "metadata": {},
   "source": [
    "# Load the Dataset"
   ]
  },
  {
   "cell_type": "code",
   "execution_count": 3,
   "metadata": {},
   "outputs": [],
   "source": [
    "import pandas as pd \n",
    "df = pd.read_csv('../data/summarizations/summarizations.csv').drop('Unnamed: 0', 1)"
   ]
  },
  {
   "cell_type": "code",
   "execution_count": 4,
   "metadata": {},
   "outputs": [
    {
     "output_type": "execute_result",
     "data": {
      "text/plain": "                                                link  \\\n0     https://api.github.com/repos/wqtshg/sdk-ezdvpp   \n1  https://api.github.com/repos/OrionStar25/Modul...   \n2  https://api.github.com/repos/kummababo/learnin...   \n3  https://api.github.com/repos/switchdin/react-g...   \n4  https://api.github.com/repos/AlexDoudelet/Comp...   \n\n                                             summary  \\\n0    Codes for transforming/resizing/croping picture   \n1  A python library and CLI tool for extracting t...   \n2  The code samples for Learning React by Alex Ba...   \n3       React component for displaying a gauge chart   \n4  PowerShell scripts to compare 2 csv files with...   \n\n                                             purpose  \\\n0                transformingresizingcroping picture   \n1  extracting translatable strings and generating...   \n2  Learning React by Alex Banks and Eve Porcello ...   \n3                           displaying a gauge chart   \n4  compare 2 csv files with and without data cleanup   \n\n                                            lex_rank  \\\n0  the methods of using ezdvpp apis are as follow...   \n1  cli usage extract translatable strings to extr...   \n2  learning react the code samples for learning r...   \n3  if the number of colors does not match the num...   \n4  this file is written the 23rd of may 2019. thi...   \n\n                                            edmunson  \\\n0  encn the ezdvpp encapsulates the dvpp apis to ...   \n1  modulemdtranslationhelpers prerequisites libmo...   \n2  learning react the code samples for learning r...   \n3  reactgaugechart react component for displaying...   \n4  this file is written the 23rd of may 2019. thi...   \n\n                                             lead_cm  \\\n0  encn the ezdvpp encapsulates the dvpp apis to ...   \n1  modulemdtranslationhelpers prerequisites libmo...   \n2  learning react the code samples for learning r...   \n3  reactgaugechart react component for displaying...   \n4  this file is written the 23rd of may 2019. thi...   \n\n                                        prsummarizer  \n0               the dvpp [UNK] to simplify the calls  \n1     package for read object of the object template  \n2  react code samples for learning react by alex ...  \n3  react component for displaying a gauge chart u...  \n4                     script to read the report file  ",
      "text/html": "<div>\n<style scoped>\n    .dataframe tbody tr th:only-of-type {\n        vertical-align: middle;\n    }\n\n    .dataframe tbody tr th {\n        vertical-align: top;\n    }\n\n    .dataframe thead th {\n        text-align: right;\n    }\n</style>\n<table border=\"1\" class=\"dataframe\">\n  <thead>\n    <tr style=\"text-align: right;\">\n      <th></th>\n      <th>link</th>\n      <th>summary</th>\n      <th>purpose</th>\n      <th>lex_rank</th>\n      <th>edmunson</th>\n      <th>lead_cm</th>\n      <th>prsummarizer</th>\n    </tr>\n  </thead>\n  <tbody>\n    <tr>\n      <th>0</th>\n      <td>https://api.github.com/repos/wqtshg/sdk-ezdvpp</td>\n      <td>Codes for transforming/resizing/croping picture</td>\n      <td>transformingresizingcroping picture</td>\n      <td>the methods of using ezdvpp apis are as follow...</td>\n      <td>encn the ezdvpp encapsulates the dvpp apis to ...</td>\n      <td>encn the ezdvpp encapsulates the dvpp apis to ...</td>\n      <td>the dvpp [UNK] to simplify the calls</td>\n    </tr>\n    <tr>\n      <th>1</th>\n      <td>https://api.github.com/repos/OrionStar25/Modul...</td>\n      <td>A python library and CLI tool for extracting t...</td>\n      <td>extracting translatable strings and generating...</td>\n      <td>cli usage extract translatable strings to extr...</td>\n      <td>modulemdtranslationhelpers prerequisites libmo...</td>\n      <td>modulemdtranslationhelpers prerequisites libmo...</td>\n      <td>package for read object of the object template</td>\n    </tr>\n    <tr>\n      <th>2</th>\n      <td>https://api.github.com/repos/kummababo/learnin...</td>\n      <td>The code samples for Learning React by Alex Ba...</td>\n      <td>Learning React by Alex Banks and Eve Porcello ...</td>\n      <td>learning react the code samples for learning r...</td>\n      <td>learning react the code samples for learning r...</td>\n      <td>learning react the code samples for learning r...</td>\n      <td>react code samples for learning react by alex ...</td>\n    </tr>\n    <tr>\n      <th>3</th>\n      <td>https://api.github.com/repos/switchdin/react-g...</td>\n      <td>React component for displaying a gauge chart</td>\n      <td>displaying a gauge chart</td>\n      <td>if the number of colors does not match the num...</td>\n      <td>reactgaugechart react component for displaying...</td>\n      <td>reactgaugechart react component for displaying...</td>\n      <td>react component for displaying a gauge chart u...</td>\n    </tr>\n    <tr>\n      <th>4</th>\n      <td>https://api.github.com/repos/AlexDoudelet/Comp...</td>\n      <td>PowerShell scripts to compare 2 csv files with...</td>\n      <td>compare 2 csv files with and without data cleanup</td>\n      <td>this file is written the 23rd of may 2019. thi...</td>\n      <td>this file is written the 23rd of may 2019. thi...</td>\n      <td>this file is written the 23rd of may 2019. thi...</td>\n      <td>script to read the report file</td>\n    </tr>\n  </tbody>\n</table>\n</div>"
     },
     "metadata": {},
     "execution_count": 4
    }
   ],
   "source": [
    "df.head()"
   ]
  },
  {
   "cell_type": "code",
   "execution_count": 5,
   "metadata": {},
   "outputs": [],
   "source": [
    "df = df[df['prsummarizer'].str.contains('[UNK]', regex=False, case=False, na=False)]"
   ]
  },
  {
   "cell_type": "code",
   "execution_count": 6,
   "metadata": {},
   "outputs": [
    {
     "output_type": "execute_result",
     "data": {
      "text/plain": "                                                  link  \\\n0       https://api.github.com/repos/wqtshg/sdk-ezdvpp   \n11   https://api.github.com/repos/cuba-platform/sam...   \n37   https://api.github.com/repos/zhanghengios/Swif...   \n60   https://api.github.com/repos/lechu445/LightXml...   \n100  https://api.github.com/repos/ChronSyn/react-na...   \n\n                                               summary  \\\n0      Codes for transforming/resizing/croping picture   \n11   This component provides a readily available in...   \n37   Easy to use and highly customizable charts lib...   \n60   Light implementation of XmlWriter equivalent d...   \n100  React Native library to generate Google plus c...   \n\n                                               purpose  \\\n0                  transformingresizingcroping picture   \n11                your applications service providers    \n37                                                 iOS   \n60   be as close as possible of XmlWriter usage beh...   \n100                       generate Google plus circle    \n\n                                              lex_rank  \\\n0    the methods of using ezdvpp apis are as follow...   \n11   cuba.addon.saml.logallsamlmessages description...   \n37   creation of views via a generator function whi...   \n60   therefore there are several goals to reach hig...   \n100  react native reactnativecircle usage license ð...   \n\n                                              edmunson  \\\n0    encn the ezdvpp encapsulates the dvpp apis to ...   \n11   saml 1. overview 2. installation 2.1. from the...   \n37   swiftcharts easy to use and highly customizabl...   \n60   lightxmlwriter the lightxmlwriter is a replace...   \n100  react native reactnativecircle usage license ð...   \n\n                                               lead_cm  \\\n0    encn the ezdvpp encapsulates the dvpp apis to ...   \n11   saml 1. overview 2. installation 2.1. from the...   \n37   swiftcharts easy to use and highly customizabl...   \n60   lightxmlwriter the lightxmlwriter is a replace...   \n100  react native reactnativecircle usage license ð...   \n\n                                          prsummarizer  \n0                 the dvpp [UNK] to simplify the calls  \n11   component provides a readily component to log ...  \n37   easy to use and highly customizable charts lib...  \n60   [UNK] is a replacement of xmlwriter which can ...  \n100              [UNK] library to use the native image  ",
      "text/html": "<div>\n<style scoped>\n    .dataframe tbody tr th:only-of-type {\n        vertical-align: middle;\n    }\n\n    .dataframe tbody tr th {\n        vertical-align: top;\n    }\n\n    .dataframe thead th {\n        text-align: right;\n    }\n</style>\n<table border=\"1\" class=\"dataframe\">\n  <thead>\n    <tr style=\"text-align: right;\">\n      <th></th>\n      <th>link</th>\n      <th>summary</th>\n      <th>purpose</th>\n      <th>lex_rank</th>\n      <th>edmunson</th>\n      <th>lead_cm</th>\n      <th>prsummarizer</th>\n    </tr>\n  </thead>\n  <tbody>\n    <tr>\n      <th>0</th>\n      <td>https://api.github.com/repos/wqtshg/sdk-ezdvpp</td>\n      <td>Codes for transforming/resizing/croping picture</td>\n      <td>transformingresizingcroping picture</td>\n      <td>the methods of using ezdvpp apis are as follow...</td>\n      <td>encn the ezdvpp encapsulates the dvpp apis to ...</td>\n      <td>encn the ezdvpp encapsulates the dvpp apis to ...</td>\n      <td>the dvpp [UNK] to simplify the calls</td>\n    </tr>\n    <tr>\n      <th>11</th>\n      <td>https://api.github.com/repos/cuba-platform/sam...</td>\n      <td>This component provides a readily available in...</td>\n      <td>your applications service providers</td>\n      <td>cuba.addon.saml.logallsamlmessages description...</td>\n      <td>saml 1. overview 2. installation 2.1. from the...</td>\n      <td>saml 1. overview 2. installation 2.1. from the...</td>\n      <td>component provides a readily component to log ...</td>\n    </tr>\n    <tr>\n      <th>37</th>\n      <td>https://api.github.com/repos/zhanghengios/Swif...</td>\n      <td>Easy to use and highly customizable charts lib...</td>\n      <td>iOS</td>\n      <td>creation of views via a generator function whi...</td>\n      <td>swiftcharts easy to use and highly customizabl...</td>\n      <td>swiftcharts easy to use and highly customizabl...</td>\n      <td>easy to use and highly customizable charts lib...</td>\n    </tr>\n    <tr>\n      <th>60</th>\n      <td>https://api.github.com/repos/lechu445/LightXml...</td>\n      <td>Light implementation of XmlWriter equivalent d...</td>\n      <td>be as close as possible of XmlWriter usage beh...</td>\n      <td>therefore there are several goals to reach hig...</td>\n      <td>lightxmlwriter the lightxmlwriter is a replace...</td>\n      <td>lightxmlwriter the lightxmlwriter is a replace...</td>\n      <td>[UNK] is a replacement of xmlwriter which can ...</td>\n    </tr>\n    <tr>\n      <th>100</th>\n      <td>https://api.github.com/repos/ChronSyn/react-na...</td>\n      <td>React Native library to generate Google plus c...</td>\n      <td>generate Google plus circle</td>\n      <td>react native reactnativecircle usage license ð...</td>\n      <td>react native reactnativecircle usage license ð...</td>\n      <td>react native reactnativecircle usage license ð...</td>\n      <td>[UNK] library to use the native image</td>\n    </tr>\n  </tbody>\n</table>\n</div>"
     },
     "metadata": {},
     "execution_count": 6
    }
   ],
   "source": [
    "df.head()"
   ]
  },
  {
   "cell_type": "code",
   "execution_count": 7,
   "metadata": {},
   "outputs": [],
   "source": [
    "columns_of_interests = ['link', 'summary', 'prsummarizer']\n",
    "unks_df = df[columns_of_interests]"
   ]
  },
  {
   "cell_type": "code",
   "execution_count": 8,
   "metadata": {},
   "outputs": [
    {
     "output_type": "execute_result",
     "data": {
      "text/plain": "                                                  link  \\\n0       https://api.github.com/repos/wqtshg/sdk-ezdvpp   \n11   https://api.github.com/repos/cuba-platform/sam...   \n37   https://api.github.com/repos/zhanghengios/Swif...   \n60   https://api.github.com/repos/lechu445/LightXml...   \n100  https://api.github.com/repos/ChronSyn/react-na...   \n\n                                               summary  \\\n0      Codes for transforming/resizing/croping picture   \n11   This component provides a readily available in...   \n37   Easy to use and highly customizable charts lib...   \n60   Light implementation of XmlWriter equivalent d...   \n100  React Native library to generate Google plus c...   \n\n                                          prsummarizer  \n0                 the dvpp [UNK] to simplify the calls  \n11   component provides a readily component to log ...  \n37   easy to use and highly customizable charts lib...  \n60   [UNK] is a replacement of xmlwriter which can ...  \n100              [UNK] library to use the native image  ",
      "text/html": "<div>\n<style scoped>\n    .dataframe tbody tr th:only-of-type {\n        vertical-align: middle;\n    }\n\n    .dataframe tbody tr th {\n        vertical-align: top;\n    }\n\n    .dataframe thead th {\n        text-align: right;\n    }\n</style>\n<table border=\"1\" class=\"dataframe\">\n  <thead>\n    <tr style=\"text-align: right;\">\n      <th></th>\n      <th>link</th>\n      <th>summary</th>\n      <th>prsummarizer</th>\n    </tr>\n  </thead>\n  <tbody>\n    <tr>\n      <th>0</th>\n      <td>https://api.github.com/repos/wqtshg/sdk-ezdvpp</td>\n      <td>Codes for transforming/resizing/croping picture</td>\n      <td>the dvpp [UNK] to simplify the calls</td>\n    </tr>\n    <tr>\n      <th>11</th>\n      <td>https://api.github.com/repos/cuba-platform/sam...</td>\n      <td>This component provides a readily available in...</td>\n      <td>component provides a readily component to log ...</td>\n    </tr>\n    <tr>\n      <th>37</th>\n      <td>https://api.github.com/repos/zhanghengios/Swif...</td>\n      <td>Easy to use and highly customizable charts lib...</td>\n      <td>easy to use and highly customizable charts lib...</td>\n    </tr>\n    <tr>\n      <th>60</th>\n      <td>https://api.github.com/repos/lechu445/LightXml...</td>\n      <td>Light implementation of XmlWriter equivalent d...</td>\n      <td>[UNK] is a replacement of xmlwriter which can ...</td>\n    </tr>\n    <tr>\n      <th>100</th>\n      <td>https://api.github.com/repos/ChronSyn/react-na...</td>\n      <td>React Native library to generate Google plus c...</td>\n      <td>[UNK] library to use the native image</td>\n    </tr>\n  </tbody>\n</table>\n</div>"
     },
     "metadata": {},
     "execution_count": 8
    }
   ],
   "source": [
    "unks_df.head()"
   ]
  },
  {
   "cell_type": "code",
   "execution_count": 9,
   "metadata": {},
   "outputs": [],
   "source": [
    "unks_df.to_csv('../data/summarizations/unks_exploration.csv')"
   ]
  },
  {
   "cell_type": "code",
   "execution_count": null,
   "metadata": {},
   "outputs": [],
   "source": []
  }
 ]
}