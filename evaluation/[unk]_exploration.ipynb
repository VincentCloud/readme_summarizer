{
 "metadata": {
  "language_info": {
   "codemirror_mode": {
    "name": "ipython",
    "version": 3
   },
   "file_extension": ".py",
   "mimetype": "text/x-python",
   "name": "python",
   "nbconvert_exporter": "python",
   "pygments_lexer": "ipython3",
   "version": "3.8.3-final"
  },
  "orig_nbformat": 2,
  "kernelspec": {
   "name": "python38332bitmlvenvfa475b1bb51b4a348a25083dba945238",
   "display_name": "Python 3.8.3 32-bit ('ml': venv)"
  }
 },
 "nbformat": 4,
 "nbformat_minor": 2,
 "cells": [
  {
   "cell_type": "markdown",
   "metadata": {},
   "source": [
    "# Load the Dataset"
   ]
  },
  {
   "cell_type": "code",
   "execution_count": 3,
   "metadata": {},
   "outputs": [],
   "source": [
    "import pandas as pd \n",
    "df = pd.read_csv('../data/summarizations/summarizations.csv').drop('Unnamed: 0', 1).drop('Unnamed: 0.1', 1)"
   ]
  },
  {
   "cell_type": "code",
   "execution_count": 4,
   "metadata": {},
   "outputs": [
    {
     "output_type": "execute_result",
     "data": {
      "text/plain": "          id                                               link  \\\n0  137115671     https://api.github.com/repos/wqtshg/sdk-ezdvpp   \n1  136599221  https://api.github.com/repos/OrionStar25/Modul...   \n2  136636607  https://api.github.com/repos/kummababo/learnin...   \n3  136730783  https://api.github.com/repos/switchdin/react-g...   \n4  136794632  https://api.github.com/repos/AlexDoudelet/Comp...   \n\n                                             summary  \\\n0    Codes for transforming/resizing/croping picture   \n1  A python library and CLI tool for extracting t...   \n2  The code samples for Learning React by Alex Ba...   \n3       React component for displaying a gauge chart   \n4  PowerShell scripts to compare 2 csv files with...   \n\n                                             purpose  \\\n0                transformingresizingcroping picture   \n1  extracting translatable strings and generating...   \n2  Learning React by Alex Banks and Eve Porcello ...   \n3                           displaying a gauge chart   \n4  compare 2 csv files with and without data cleanup   \n\n                                            lex_rank  \\\n0  the methods of using ezdvpp apis are as follow...   \n1  cli usage extract translatable strings to extr...   \n2  learning react the code samples for learning r...   \n3  if the number of colors does not match the num...   \n4  this file is written the 23rd of may 2019. thi...   \n\n                                            edmunson  \\\n0  encn the ezdvpp encapsulates the dvpp apis to ...   \n1  modulemdtranslationhelpers prerequisites libmo...   \n2  learning react the code samples for learning r...   \n3  reactgaugechart react component for displaying...   \n4  this file is written the 23rd of may 2019. thi...   \n\n                                             lead_cm  \\\n0  encn the ezdvpp encapsulates the dvpp apis to ...   \n1  modulemdtranslationhelpers prerequisites libmo...   \n2  learning react the code samples for learning r...   \n3  reactgaugechart react component for displaying...   \n4  this file is written the 23rd of may 2019. thi...   \n\n                                        prsummarizer  \n0                simplify the calls the image format  \n1                           dealing on fedora 28 run  \n2  learning react by alex banks and eve porcello ...  \n3                displaying a gauge chart using d3js  \n4                      read the report file 5contact  ",
      "text/html": "<div>\n<style scoped>\n    .dataframe tbody tr th:only-of-type {\n        vertical-align: middle;\n    }\n\n    .dataframe tbody tr th {\n        vertical-align: top;\n    }\n\n    .dataframe thead th {\n        text-align: right;\n    }\n</style>\n<table border=\"1\" class=\"dataframe\">\n  <thead>\n    <tr style=\"text-align: right;\">\n      <th></th>\n      <th>id</th>\n      <th>link</th>\n      <th>summary</th>\n      <th>purpose</th>\n      <th>lex_rank</th>\n      <th>edmunson</th>\n      <th>lead_cm</th>\n      <th>prsummarizer</th>\n    </tr>\n  </thead>\n  <tbody>\n    <tr>\n      <th>0</th>\n      <td>137115671</td>\n      <td>https://api.github.com/repos/wqtshg/sdk-ezdvpp</td>\n      <td>Codes for transforming/resizing/croping picture</td>\n      <td>transformingresizingcroping picture</td>\n      <td>the methods of using ezdvpp apis are as follow...</td>\n      <td>encn the ezdvpp encapsulates the dvpp apis to ...</td>\n      <td>encn the ezdvpp encapsulates the dvpp apis to ...</td>\n      <td>simplify the calls the image format</td>\n    </tr>\n    <tr>\n      <th>1</th>\n      <td>136599221</td>\n      <td>https://api.github.com/repos/OrionStar25/Modul...</td>\n      <td>A python library and CLI tool for extracting t...</td>\n      <td>extracting translatable strings and generating...</td>\n      <td>cli usage extract translatable strings to extr...</td>\n      <td>modulemdtranslationhelpers prerequisites libmo...</td>\n      <td>modulemdtranslationhelpers prerequisites libmo...</td>\n      <td>dealing on fedora 28 run</td>\n    </tr>\n    <tr>\n      <th>2</th>\n      <td>136636607</td>\n      <td>https://api.github.com/repos/kummababo/learnin...</td>\n      <td>The code samples for Learning React by Alex Ba...</td>\n      <td>Learning React by Alex Banks and Eve Porcello ...</td>\n      <td>learning react the code samples for learning r...</td>\n      <td>learning react the code samples for learning r...</td>\n      <td>learning react the code samples for learning r...</td>\n      <td>learning react by alex banks and eve porcello ...</td>\n    </tr>\n    <tr>\n      <th>3</th>\n      <td>136730783</td>\n      <td>https://api.github.com/repos/switchdin/react-g...</td>\n      <td>React component for displaying a gauge chart</td>\n      <td>displaying a gauge chart</td>\n      <td>if the number of colors does not match the num...</td>\n      <td>reactgaugechart react component for displaying...</td>\n      <td>reactgaugechart react component for displaying...</td>\n      <td>displaying a gauge chart using d3js</td>\n    </tr>\n    <tr>\n      <th>4</th>\n      <td>136794632</td>\n      <td>https://api.github.com/repos/AlexDoudelet/Comp...</td>\n      <td>PowerShell scripts to compare 2 csv files with...</td>\n      <td>compare 2 csv files with and without data cleanup</td>\n      <td>this file is written the 23rd of may 2019. thi...</td>\n      <td>this file is written the 23rd of may 2019. thi...</td>\n      <td>this file is written the 23rd of may 2019. thi...</td>\n      <td>read the report file 5contact</td>\n    </tr>\n  </tbody>\n</table>\n</div>"
     },
     "metadata": {},
     "execution_count": 4
    }
   ],
   "source": [
    "df.head()"
   ]
  },
  {
   "cell_type": "code",
   "execution_count": 5,
   "metadata": {},
   "outputs": [],
   "source": [
    "df = df[df['prsummarizer'].str.contains('[UNK]', regex=False, case=False, na=False)]"
   ]
  },
  {
   "cell_type": "code",
   "execution_count": 6,
   "metadata": {},
   "outputs": [
    {
     "output_type": "execute_result",
     "data": {
      "text/plain": "            id                                               link  \\\n34   137431059  https://api.github.com/repos/Knohraan/scripts-...   \n51   137086999  https://api.github.com/repos/JIMMY-KSU/sklearn...   \n59   136768308  https://api.github.com/repos/yanglizong/a-PyTo...   \n67   136645349  https://api.github.com/repos/zovafit/JWTDecode...   \n107  137469079  https://api.github.com/repos/aledalgrande/embe...   \n\n                                               summary  \\\n34                            Scripts to Rule Them All   \n51   Python library for converting Scikit-Learn pip...   \n59   Show, Attend, and Tell | a PyTorch Tutorial to...   \n67          A library to help you decode JWTs in Swift   \n107  An ember-cli-deploy-plugin to upload javascrip...   \n\n                           purpose  \\\n34                   Rule Them All   \n51                            PMML   \n59                Image Captioning   \n67   help you decode JWTs in Swift   \n107                         Sentry   \n\n                                              lex_rank  \\\n34   you should set up any specific things for your...   \n51   if the method is invoked with pandas.series ob...   \n59                    this model learns where to look.   \n67   add support for linking different user account...   \n107  add revision tagging file pattern make meta na...   \n\n                                              edmunson  \\\n34   scripts to rule them all this is a set of boil...   \n51   sklearn2pmml python library for converting sci...   \n59     this is a pytorch tutorial to image captioning.   \n67   jwtdecode.swift this library will help you che...   \n107  emberclideploysentry an emberclideployplugin t...   \n\n                                               lead_cm  \\\n34   scripts to rule them all this is a set of boil...   \n51   sklearn2pmml python library for converting sci...   \n59   this is a pytorch tutorial to image captioning...   \n67   jwtdecode.swift this library will help you che...   \n107  emberclideploysentry an emberclideployplugin t...   \n\n                        prsummarizer  \n34            rule them all in [UNK]  \n51   pmml with [UNK] [UNK] and [UNK]  \n59        image with [UNK] and [UNK]  \n67    help check check payload [UNK]  \n107    sentry with [UNK] [UNK] [UNK]  ",
      "text/html": "<div>\n<style scoped>\n    .dataframe tbody tr th:only-of-type {\n        vertical-align: middle;\n    }\n\n    .dataframe tbody tr th {\n        vertical-align: top;\n    }\n\n    .dataframe thead th {\n        text-align: right;\n    }\n</style>\n<table border=\"1\" class=\"dataframe\">\n  <thead>\n    <tr style=\"text-align: right;\">\n      <th></th>\n      <th>id</th>\n      <th>link</th>\n      <th>summary</th>\n      <th>purpose</th>\n      <th>lex_rank</th>\n      <th>edmunson</th>\n      <th>lead_cm</th>\n      <th>prsummarizer</th>\n    </tr>\n  </thead>\n  <tbody>\n    <tr>\n      <th>34</th>\n      <td>137431059</td>\n      <td>https://api.github.com/repos/Knohraan/scripts-...</td>\n      <td>Scripts to Rule Them All</td>\n      <td>Rule Them All</td>\n      <td>you should set up any specific things for your...</td>\n      <td>scripts to rule them all this is a set of boil...</td>\n      <td>scripts to rule them all this is a set of boil...</td>\n      <td>rule them all in [UNK]</td>\n    </tr>\n    <tr>\n      <th>51</th>\n      <td>137086999</td>\n      <td>https://api.github.com/repos/JIMMY-KSU/sklearn...</td>\n      <td>Python library for converting Scikit-Learn pip...</td>\n      <td>PMML</td>\n      <td>if the method is invoked with pandas.series ob...</td>\n      <td>sklearn2pmml python library for converting sci...</td>\n      <td>sklearn2pmml python library for converting sci...</td>\n      <td>pmml with [UNK] [UNK] and [UNK]</td>\n    </tr>\n    <tr>\n      <th>59</th>\n      <td>136768308</td>\n      <td>https://api.github.com/repos/yanglizong/a-PyTo...</td>\n      <td>Show, Attend, and Tell | a PyTorch Tutorial to...</td>\n      <td>Image Captioning</td>\n      <td>this model learns where to look.</td>\n      <td>this is a pytorch tutorial to image captioning.</td>\n      <td>this is a pytorch tutorial to image captioning...</td>\n      <td>image with [UNK] and [UNK]</td>\n    </tr>\n    <tr>\n      <th>67</th>\n      <td>136645349</td>\n      <td>https://api.github.com/repos/zovafit/JWTDecode...</td>\n      <td>A library to help you decode JWTs in Swift</td>\n      <td>help you decode JWTs in Swift</td>\n      <td>add support for linking different user account...</td>\n      <td>jwtdecode.swift this library will help you che...</td>\n      <td>jwtdecode.swift this library will help you che...</td>\n      <td>help check check payload [UNK]</td>\n    </tr>\n    <tr>\n      <th>107</th>\n      <td>137469079</td>\n      <td>https://api.github.com/repos/aledalgrande/embe...</td>\n      <td>An ember-cli-deploy-plugin to upload javascrip...</td>\n      <td>Sentry</td>\n      <td>add revision tagging file pattern make meta na...</td>\n      <td>emberclideploysentry an emberclideployplugin t...</td>\n      <td>emberclideploysentry an emberclideployplugin t...</td>\n      <td>sentry with [UNK] [UNK] [UNK]</td>\n    </tr>\n  </tbody>\n</table>\n</div>"
     },
     "metadata": {},
     "execution_count": 6
    }
   ],
   "source": [
    "df.head()"
   ]
  },
  {
   "cell_type": "code",
   "execution_count": 7,
   "metadata": {},
   "outputs": [],
   "source": [
    "columns_of_interests = ['link', 'summary', 'prsummarizer']\n",
    "unks_df = df[columns_of_interests]"
   ]
  },
  {
   "cell_type": "code",
   "execution_count": 8,
   "metadata": {},
   "outputs": [
    {
     "output_type": "execute_result",
     "data": {
      "text/plain": "                                                  link  \\\n34   https://api.github.com/repos/Knohraan/scripts-...   \n51   https://api.github.com/repos/JIMMY-KSU/sklearn...   \n59   https://api.github.com/repos/yanglizong/a-PyTo...   \n67   https://api.github.com/repos/zovafit/JWTDecode...   \n107  https://api.github.com/repos/aledalgrande/embe...   \n\n                                               summary  \\\n34                            Scripts to Rule Them All   \n51   Python library for converting Scikit-Learn pip...   \n59   Show, Attend, and Tell | a PyTorch Tutorial to...   \n67          A library to help you decode JWTs in Swift   \n107  An ember-cli-deploy-plugin to upload javascrip...   \n\n                        prsummarizer  \n34            rule them all in [UNK]  \n51   pmml with [UNK] [UNK] and [UNK]  \n59        image with [UNK] and [UNK]  \n67    help check check payload [UNK]  \n107    sentry with [UNK] [UNK] [UNK]  ",
      "text/html": "<div>\n<style scoped>\n    .dataframe tbody tr th:only-of-type {\n        vertical-align: middle;\n    }\n\n    .dataframe tbody tr th {\n        vertical-align: top;\n    }\n\n    .dataframe thead th {\n        text-align: right;\n    }\n</style>\n<table border=\"1\" class=\"dataframe\">\n  <thead>\n    <tr style=\"text-align: right;\">\n      <th></th>\n      <th>link</th>\n      <th>summary</th>\n      <th>prsummarizer</th>\n    </tr>\n  </thead>\n  <tbody>\n    <tr>\n      <th>34</th>\n      <td>https://api.github.com/repos/Knohraan/scripts-...</td>\n      <td>Scripts to Rule Them All</td>\n      <td>rule them all in [UNK]</td>\n    </tr>\n    <tr>\n      <th>51</th>\n      <td>https://api.github.com/repos/JIMMY-KSU/sklearn...</td>\n      <td>Python library for converting Scikit-Learn pip...</td>\n      <td>pmml with [UNK] [UNK] and [UNK]</td>\n    </tr>\n    <tr>\n      <th>59</th>\n      <td>https://api.github.com/repos/yanglizong/a-PyTo...</td>\n      <td>Show, Attend, and Tell | a PyTorch Tutorial to...</td>\n      <td>image with [UNK] and [UNK]</td>\n    </tr>\n    <tr>\n      <th>67</th>\n      <td>https://api.github.com/repos/zovafit/JWTDecode...</td>\n      <td>A library to help you decode JWTs in Swift</td>\n      <td>help check check payload [UNK]</td>\n    </tr>\n    <tr>\n      <th>107</th>\n      <td>https://api.github.com/repos/aledalgrande/embe...</td>\n      <td>An ember-cli-deploy-plugin to upload javascrip...</td>\n      <td>sentry with [UNK] [UNK] [UNK]</td>\n    </tr>\n  </tbody>\n</table>\n</div>"
     },
     "metadata": {},
     "execution_count": 8
    }
   ],
   "source": [
    "unks_df.head()"
   ]
  },
  {
   "cell_type": "code",
   "execution_count": 10,
   "metadata": {},
   "outputs": [],
   "source": [
    "unks_df.to_csv('../data/summarizations/unks_exploration_with_purpose.csv')"
   ]
  },
  {
   "cell_type": "code",
   "execution_count": null,
   "metadata": {},
   "outputs": [],
   "source": []
  }
 ]
}