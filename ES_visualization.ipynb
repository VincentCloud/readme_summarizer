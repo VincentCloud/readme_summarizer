{
 "cells": [
  {
   "cell_type": "code",
   "execution_count": 2,
   "metadata": {},
   "outputs": [],
   "source": [
    "import pandas as pd\n",
    "\n",
    "readme_df = pd.read_csv('/Users/vincenthuang/Development/Summer-2020/readme_summarizer/data/extractive_summarizations/extractive_summarizations.csv')"
   ]
  },
  {
   "cell_type": "code",
   "execution_count": 7,
   "metadata": {},
   "outputs": [],
   "source": [
    "readme_df = readme_df.drop('Unnamed: 0', 1)"
   ]
  },
  {
   "cell_type": "code",
   "execution_count": 8,
   "metadata": {},
   "outputs": [
    {
     "data": {
      "text/html": [
       "<div>\n",
       "<style scoped>\n",
       "    .dataframe tbody tr th:only-of-type {\n",
       "        vertical-align: middle;\n",
       "    }\n",
       "\n",
       "    .dataframe tbody tr th {\n",
       "        vertical-align: top;\n",
       "    }\n",
       "\n",
       "    .dataframe thead th {\n",
       "        text-align: right;\n",
       "    }\n",
       "</style>\n",
       "<table border=\"1\" class=\"dataframe\">\n",
       "  <thead>\n",
       "    <tr style=\"text-align: right;\">\n",
       "      <th></th>\n",
       "      <th>id</th>\n",
       "      <th>link</th>\n",
       "      <th>summary</th>\n",
       "      <th>readme</th>\n",
       "      <th>lex_rank</th>\n",
       "      <th>edmunson</th>\n",
       "    </tr>\n",
       "  </thead>\n",
       "  <tbody>\n",
       "    <tr>\n",
       "      <th>0</th>\n",
       "      <td>136617793</td>\n",
       "      <td>https://api.github.com/repos/AllenWangle/Resea...</td>\n",
       "      <td>A paper list of my research line, welcome to d...</td>\n",
       "      <td>awesome paper list prs welcomereadmeassetsprs...</td>\n",
       "      <td>awesome paper list prs welcomereadmeassetsprs...</td>\n",
       "      <td>awesome paper list prs welcomereadmeassetsprs...</td>\n",
       "    </tr>\n",
       "    <tr>\n",
       "      <th>1</th>\n",
       "      <td>136860222</td>\n",
       "      <td>https://api.github.com/repos/heikipikker/firmw...</td>\n",
       "      <td>Toolkit to emulate firmware and analyse it for...</td>\n",
       "      <td>firmware analysis toolkit fat is a toolkit bu...</td>\n",
       "      <td>firmware analysis toolkit fat is a toolkit bu...</td>\n",
       "      <td>firmware analysis toolkit fat is a toolkit bu...</td>\n",
       "    </tr>\n",
       "    <tr>\n",
       "      <th>2</th>\n",
       "      <td>136792496</td>\n",
       "      <td>https://api.github.com/repos/shaunagm/governan...</td>\n",
       "      <td>Resources to help you choose a governance syst...</td>\n",
       "      <td>governance resources welcome to governance re...</td>\n",
       "      <td>governance resources welcome to governance re...</td>\n",
       "      <td>governance resources welcome to governance re...</td>\n",
       "    </tr>\n",
       "    <tr>\n",
       "      <th>3</th>\n",
       "      <td>136898852</td>\n",
       "      <td>https://api.github.com/repos/srmagura/expo-pixi</td>\n",
       "      <td>Tools for using pixi.js in Expo</td>\n",
       "      <td>expopixi tools to use pixijshttpwwwpixijscom ...</td>\n",
       "      <td>expopixi tools to use pixijshttpwwwpixijscom ...</td>\n",
       "      <td>expopixi tools to use pixijshttpwwwpixijscom ...</td>\n",
       "    </tr>\n",
       "    <tr>\n",
       "      <th>4</th>\n",
       "      <td>136699628</td>\n",
       "      <td>https://api.github.com/repos/tenfinney/graphql...</td>\n",
       "      <td>A library to help construct a graphql-js serve...</td>\n",
       "      <td>relay library for graphqljs this is a library...</td>\n",
       "      <td>relay library for graphqljs this is a library...</td>\n",
       "      <td>relay library for graphqljs this is a library...</td>\n",
       "    </tr>\n",
       "  </tbody>\n",
       "</table>\n",
       "</div>"
      ],
      "text/plain": [
       "          id                                               link  \\\n",
       "0  136617793  https://api.github.com/repos/AllenWangle/Resea...   \n",
       "1  136860222  https://api.github.com/repos/heikipikker/firmw...   \n",
       "2  136792496  https://api.github.com/repos/shaunagm/governan...   \n",
       "3  136898852    https://api.github.com/repos/srmagura/expo-pixi   \n",
       "4  136699628  https://api.github.com/repos/tenfinney/graphql...   \n",
       "\n",
       "                                             summary  \\\n",
       "0  A paper list of my research line, welcome to d...   \n",
       "1  Toolkit to emulate firmware and analyse it for...   \n",
       "2  Resources to help you choose a governance syst...   \n",
       "3                    Tools for using pixi.js in Expo   \n",
       "4  A library to help construct a graphql-js serve...   \n",
       "\n",
       "                                              readme  \\\n",
       "0   awesome paper list prs welcomereadmeassetsprs...   \n",
       "1   firmware analysis toolkit fat is a toolkit bu...   \n",
       "2   governance resources welcome to governance re...   \n",
       "3   expopixi tools to use pixijshttpwwwpixijscom ...   \n",
       "4   relay library for graphqljs this is a library...   \n",
       "\n",
       "                                            lex_rank  \\\n",
       "0   awesome paper list prs welcomereadmeassetsprs...   \n",
       "1   firmware analysis toolkit fat is a toolkit bu...   \n",
       "2   governance resources welcome to governance re...   \n",
       "3   expopixi tools to use pixijshttpwwwpixijscom ...   \n",
       "4   relay library for graphqljs this is a library...   \n",
       "\n",
       "                                            edmunson  \n",
       "0   awesome paper list prs welcomereadmeassetsprs...  \n",
       "1   firmware analysis toolkit fat is a toolkit bu...  \n",
       "2   governance resources welcome to governance re...  \n",
       "3   expopixi tools to use pixijshttpwwwpixijscom ...  \n",
       "4   relay library for graphqljs this is a library...  "
      ]
     },
     "execution_count": 8,
     "metadata": {},
     "output_type": "execute_result"
    }
   ],
   "source": [
    "readme_df.head()"
   ]
  },
  {
   "cell_type": "code",
   "execution_count": 10,
   "metadata": {},
   "outputs": [
    {
     "data": {
      "text/plain": [
       "' awesome paper list prs welcomereadmeassetsprswelcomebrightgreensvghttpmakeapullrequestcom awesomehttpscdnrawgitcomsindresorhusawesomed7305f38d29fed78fa85652e3a63e154dd8e8829mediabadgesvg a collection of graph embedding deep learning recommendation knowledge graph heterogeneous graph papers with reference implementations you need to zoom in on this image to view this picture table of contents 1 recomendationrecomendation 2 graphgraph 3 bayesian deep learningbayesiandeeplearning 4 datasetsdatasets recomendation title conference author attachment large scale recommendation dynamic attention deep model for article recommendation by learning human editors’ demonstrationhttpsdlacmorgcitationcfmid3098096 kdd 2017 xuejian wang lantao yu kan ren dkn deep knowledgeaware network for news recommendation httpsdlacmorgcitationcfmid3186175 www 2018 hongwei wang fuzheng zhang xing xie minyi guo tensorflowhttpsgithubcomhwwang55dkn deep interest network for clickthrough rate predictionhttpsarxivorgabs170606978 kdd 2018 guorui zhou kun gai et al tensorflowhttpsgithubcomzhougr1993deepinterestnetwork normal learning consumer and producer embeddings for usergenerated content recommendationhttpsarxivorgabs180909739 recsys 2018 wangcheng kang julian mcauley spectral collaborative filteringhttpsarxivorgabs180810523v1 recsys 2018 lei zheng chunta philip s yu music recommendation by unified hypergraph combining social media information and music contenthttpsdlacmorgcitationcfmid1874005 mm 2010 bu jiajun tan shulong xiaofei he news recommendation news recommendation via hypergraph learning encapsulation of user behavior and news contenthttpsdlacmorgcitationcfmid2433436 wsdm 2013 lei li tao li weave rec a word embedding based 3d convolutional network for news recommendation cikm 2018 kerashttpsgithubcomdhruvkhattarwe3cn review based recommendation a3ncf an adaptive aspect attention model for rating predictionhttpswwwcompnusedusgxiangnanpapersijcai18a3ncfpdf ijcai 2018 zhiyong cheng ying ding xiangnan he lei zhu xuemeng song mohan kankanhalli kerashttpsgithubcomhustlingchena3ncf social attentional memory network modeling aspect and friendlevel differences in recommendationhttpwwwthuircngroupmzhangpublicationswsdm2019chenchongpdf wsdm 2019 chong chen min zhang et al tensorflowhttpsgithubcomchenchongthusamn graph neural networks for social recommendationhttpsarxivorgpdf190207243pdf www 2019 wenqi fan yao ma jiliang tang explainable explainable reasoning over knowledge graphs for recommendation explainable recommendation through attentive multiview learning aaai 2018 ripplenet propagating user preferences on the knowledge graph for recommender systems cikm 2018 min zhang website aim at explainable recommender system graph title conference author attachment survey survey representation learning on graphs methods and applicationshttpsarxivorgabs170905584 william l hamilton rex ying jure leskovec a comprehensive survey on graph neural networkshttpsarxivorgabs190100596contextcs zonghan wu philip s yu graph theory representation learning on graphs with jumping knowledge networkshttpsarxivorgabs180603536 icml 2018 keyulu xu chengtao li yonglong tian tomohiro sonobekenichi kawarabayashi stefanie jegelka predict then propagate graph neural networks meet personalized pagerankhttpsarxivorgabs181005997 iclr 2019 johannes klicpera aleksandar bojchevski stephan günnemann pytorch and tensorflowhttpsgithubcomklicperajoppnp bayesian graph convolutional neural networks for semisupervised classificationhttpsarxivorgpdf181111103pdf aaai 2019 jiatao jiang zhen cui chunyan xu jian yang graph wavelet neural networkhttpsopenreviewnetforumidh1ewdir5tq iclr 2019 bingbing xuhttpsopenreviewnetprofileemailxubingbing40ictaccn huawei shenhttpsopenreviewnetprofileemailshenhuawei40ictaccn qi caohttpsopenreviewnetprofileemailcaoqi40ictaccn yunqi qiuhttpsopenreviewnetprofileemailqiuyunqi40ictaccn xueqi chenghttpsopenreviewnetprofileemailcxq40ictaccn pytorchhttpsgithubcombenedekrozemberczkigraphwaveletneuralnetwork tensorflowhttpsgithubcomeilenegwnn graphgan graph representation learning with generative adversarial netshttpsarxivorgpdf171108267pdf aaai 2018 hongwei wang jia wang jialin wangmiao zhaoweinan zhangfuzheng zhang xing xie minyi guo tensorflowhttpsgithubcomhwwang55graphgan semisupervised learning on graphs with generative adversarial netshttpsarxivorgpdf180900130pdf cikm 2018 ming ding，jie tang codehttpsgithubcomdmthugraphsgan simplifying graph convolutional networkshttpsarxivorgabs190207153 icml 2019 under review wu felix zhang tianyi souza amauri holanda de fifty christopher yu tao weinberger kilian q pytorchhttpsgithubcomtiiigersgc how powerful are graph neural networkshttpsopenreviewnetforumidrygs6ia5km iclr 2019 keyulu xu weihua hu jure leskovec stefanie jegelka lanczosnet multiscale deep graph convolutional networkshttpsgithubcomnaganandygraphbaseddeeplearningliteratureblobmasterconferencepublicationsfolderslanczosneticlr19readmemd iclr 2019 renjie liao et al codehttpsgithubcomlrjconanlanczosnetwork geniepath graph neural networks with adaptive receptive pathshttpsarxivorgabs1802009101551274095870readmeassets1551274095870png aaai 2019 le song yuan qi et al graph attention networkshttpsarxivorgabs171010903 iclr 2018 petar veliˇckovi´ guillem cucurull arantxa casanova adriana romero pietro li yoshua bengio tensorflowhttpsgithubcompetarvgat hierarchical graph representation learning with differentiable poolinghttpsdlacmorgcitationcfmid2433436 nips 2018 rex ying jiaxuan you christopher morris xiang ren william l hamilton jure leskovec codehttpsgithubcomrexyingdiffpool glomo unsupervisedly learned relational graphs as transferable representationshttpsarxivorgabs180605662 nips 2018 zhilin yang jake zhao bhuwan dhingra kaiming he william w cohen ruslan salakhutdinov yann lecun graphsage inductive representation learning on large graphshttpsarxivorgpdf170602216pdf nips 2017 codehttpsnapstanfordedugraphsagecode pitfalls of graph neural network evaluationhttpsarxivorgabs181105868 nips 2018 shchur oleksandr et al tensorflow gnn bench markhttpsgithubcomshchurgnnbenchmark semisupervised classification with graph convolutional networkshttpsarxivorgabs160902907 iclr 2017 thomas n kipf max welling tensorflowhttpsgithubcomtkipfgcn graph application deepinf social influence prediction with deep learninghttpsarxivorgpdf180705560pdf kdd 2018 jiezhong qiu jie tang， et al pytorchhttpsgithubcomsunqmpyscf signed graph convolutional networkhttpsarxivorgpdf180806354pdf icdm 2018 tyler derr yao ma jiliang tang pytorchhttpsgithubcombenedekrozemberczkisgcn graph convolutional networks for text classificationhttpsarxivorgabs180905679 aaai 2019 liang yao chengsheng mao yuan luo tensorflowhttpsgithubcomyao8839836textgcn learning graph pooling and hybrid convolutional operations for text representationshttpsgithubcomnaganandygraphbaseddeeplearningliteratureblobmasterconferencepublicationsfoldersgpoolwww19readmemd www 2019 hongyang gao yongjun chen shuiwang ji graph convolutional matrix completionhttpsarxivorgpdf170602263pdf kdd 2018 rianne van den berg thomas n kipf max welling tensorflowhttpsgithubcomriannevdberggcmc pinsage graph convolutional neural networks for webscale recommender systemshttpsdlacmorgcitationcfmid3219890 kdd 2018 rex ying ruining he kaifeng chen pong eksombatchai william l hamilton jure leskovec knowledge graph endtoend structureaware convolutional networks for knowledge base completionhttpsarxivorgabs181104441 aaai2019 pytorch1httpsgithubcomjdairesearchsiliconvalleysacn modeling relational data with graph convolutional networkshttpsarxivorgabs170306103 eswc 2018 michael schlichtkrull thomas n kipf peter bloem rianne van den berg ivan titov max welling kerashttpsgithubcomtkipfrelationalgcntensorflowhttpsgithubcommichschlirelationprediction simple embedding for link prediction in knowledge graphshttpsarxivorgabs180204868 nips 2018 seyed mehran kazemi david poole tensorflowhttpsgithubcommehranksimple ripplenet propagating user preferences on the knowledge graph for recommender systemshttpsarxivorgabs180303467 cikm 2018 hongwei wang fuzheng zhang jialin wang miao zhao wenjie li xing xie minyi guo tensorflowhttpsgithubcomhwwang55ripplenet dkn deep knowledgeaware network for news recommendationhttpsdlacmorgcitationcfmid3186175 www 2018 hongwei wang fuzheng zhang xing xie minyi guo tensorflowhttpsgithubcomhwwang55dkn convolutional 2d knowledge graph embeddingshttpsarxivorgabs170701476 aaai 2017 tim dettmers pasquale minervini pontus stenetorp sebastian riedel pytorchhttpsgithubcomtimdettmersconve translating embeddings for modeling multirelational datahttpspapersnipsccpaper5071translatingembeddingsformodelingmultirelationaldata nips 2013 antoine bordes nicolas usunier alberto garciaduran jason weston oksana yakhnenko code for transe transh transr and ptransehttpsgithubcomthunlpkb2e hypergraph hypergraph neural networkshttpsarxivorgabs180909401 aaai 2019 yifan feng haoxuan you zizhao zhang rongrong ji yue gao pytorchhttpsgithubcomyuegrouphgnn structural deep embedding for hypernetworkshttpsarxivorgabs171110146 aaai 2018 ke tu peng cui xiao wang fei wang wenwu zhu tensorflowhttpsgithubcomtadpoledhne modeling multiway relations with hypergraph embeddinghttpsdlacmorgcitationcfmid3269274 cikm 2018 chiaan yu chinglun tai takshing chan yihsuan yang matlabhttpgithubcomchiaanhge heterogeneous information network cashout user detection based on attributed heterogeneous information network with a hierarchical attention mechanismhttpshichuanorgdoc64pdf binbin hu zhiqiang zhangchuan shi jun zhou xiaolong li yuan qi aaai 2019 code will be released httpsgithubcomlibrahuhacud heterogeneous graph attention networkhttppengcuithumedialabcompapersheterogeneousganpdf www 2019 chuan shi peng cui et al pyotrchhttpsgithubcomjhy1993han relation structureaware heterogeneous information network embeddinghttpshichuanorgdoc63pdf aaai 2019 yuanfu lu chuan shi linmei hu zhiyuan liu pytorchhttpsgithubcomrootlurhine are metapaths necessary revisiting heterogeneous graph embeddingshttpsdlacmorgcitationcfmid3271777 cikm 2018 rana hussein request in email leveraging metapath based context for top n recommendation with a neural coattention modelhttpshichuanorgdoc47pdf kdd 2018 binbin hu chuan shi wayne xin zhao philip s yu tensorflowkerashttpsgithubcomlibrahumcrecdatahttpsgithubcomlibrahuheterogeneousinformationnetworkdatasetsforrecommendation pme projected metric embedding on heterogeneous networks for link predictionhttpsdlacmorgcitationcfmid3219986 kdd 2018 hongxu chenhttpsdlacmorgauthorpagecfmid99659155111colldldlacmtrk0 et al request in email aspectlevel deep collaborative filtering via heterogeneous information networkshttpshichuanorgdoc46pdf ijcai 2018 xiaotian han chuan shi senzhang wang philip s yu li song tensorflowhttpsgithubcomahxtneuacf deep collective classification in heterogeneous information networkshttpsdlacmorgauthorizen655839 www 2018 kerashttpsgithubcomzyz282994112graphinceptiongit metagraph based recommendation fusion over heterogeneous information networkshttpwwwcseusthkhzhaoafdatakdd17paperpdf kdd 2017 huan zhao anming yao jianda li yangqiu song and dik lun lee pythonhttpsgithubcomhkustknowcompfmg metapath2vec scalable representation learning for heterogeneous networkshttpsericdongyxgithubiopaperskdd17dongchawlaswamimetapath2vecpdf kdd 2017 yuxiao dong chttpsericdongyxgithubiometapath2vecm2vhtml tensorflowhttpsgithubcomapple2373metapath2vec hyperbolic embedding poincaré embeddings for learning hierarchical representationshttpsarxivorgabs170508039 nips 2017 maximilian nickel kiela douwe pytorchhttpsgithubcomfacebookresearchpoincareembeddings hyperbolic neural networkshttpsarxivorgabs180509112 nips 2018 octavian eugen ganea hofmann thomas tensorflowhttpsgithubcomdalabhyperbolicnn network representation learning unsupervised a survey on network embeddinghttpsarxivorgabs171108752 2017 peng cuihttpsarxivorgsearchcssearchtypeauthorquerycui2cp xiao wanghttpsarxivorgsearchcssearchtypeauthorquerywang2cx jian peihttpsarxivorgsearchcssearchtypeauthorquerypei2cj wenwu zhuhttpsarxivorgsearchcssearchtypeauthorqueryzhu2cw a tutorial on network embeddingshttpsarxivorgabs180802590 2018 haochen chenhttpsarxivorgsearchcssearchtypeauthorquerychen2ch bryan perozzihttpsarxivorgsearchcssearchtypeauthorqueryperozzi2cb rami alrfouhttpsarxivorgsearchcssearchtypeauthorqueryalrfou2cr steven skienahttpsarxivorgsearchcssearchtypeauthorqueryskiena2cs transnet translationbased network representation learning for social relation extractionhttpswwwijcaiorgproceedings20170399pdf ijcai 2017 cunchao tu zhengyan maosong sun tensorflowhttpsgithubcomthunlptransnet transconv relationship embedding in social networkshttpswwwaaaiorgpapersaaai2019aaailaiyiyu6773pdf aaai 2019 oral deep graph infomaxhttpsarxivorgpdf180910341pdf iclr 2019 petar velickovi ˇ c´ william l hamilton yoshua bengio et al pytorchhttpsgithubcompetarvdgi anrl attributed network representation learning via deep neural networkshttpswwwijcaiorgproceedings20180438pdf ijcai 2018 zhen zhang hongxia yang jiajun bu sheng zhou pinggang yu jianwei zhang martin ester can wang tensosrflowhttpsgithubcomcszhangzhenanrl exploiting relational information in social networks using geometric deep learning on hypergraphs other implement resource gatedgraphneuralnetworksampleshttpsgithubcommicrosoftgatedgraphneuralnetworksamples graphneuralnetworks jupyter tutorialhttpsgithubcomseongokryugraphneuralnetworks deep graph library dgl python packagehttpsdocsdglaiindexhtml pitafall gnn model collectionhttpsgithubcomshchurgnnbenchmark pytorchgeometrichttpsgithubcomrusty1spytorchgeometric alimama euler frameworkhttpsgithubcomalibabaeuler liaojunjie gnn model collectionhttpsgithubcomlrjconanlanczosnetwork node embedding from deepwalk to struc2vechttpsgithubcomshenweichengraphembedding spektralhttpsgithubcomdanielegrattarolaspektral other reading materials tsinghua university graph papers reading listhttpsgithubcomthunlpgnnpapers gnn literaturehttpsgithubcomnaganandygraphbaseddeeplearningliteratureblobmasterconferencepublicationsreadmemd mia reading grouphttpsgithubcomshagunsodhanigraphreadinggroup awesomenetworkembeddinghttpsgithubcomchihmingawesomenetworkembedding dynamic graphhttpsgithubcomwoojeongjindynamickg zhihu link for graphhttpszhuanlanzhihucomp55944583 spatialtemporal graphhttpsgithubcomeilenespatiotemporalpaperlistissues1 technische universität münchenhttpswwwkddintumdeforschungmachinelearningforgraphsnetworks bayesiandeeplearning title conference author attachment survey recent advances in autoencoderbased representation learninghttpsarxivorgabs181205069 nips 2018 michael tschannen olivier bachem mario lucic datasets homegenerous graph dataset pubmed diabetes the pubmed diabetes dataset consists of 19717 scientific publications from pubmed database pertaining to diabetes classified into one of three classes the citation network consists of 44338 links each publication in the dataset is described by a tfidf weighted word vector from a dictionary which consists of 500 unique words the readme file in the dataset provides more details download link httpslinqsdatasoeucscedupublicpubmeddiabetestgz related papers galileo namata et al querydriven active surveying for collective classification mlg 2012 cora the cora dataset consists of 2708 scientific publications classified into one of seven classes the citation network consists of 5429 links each publication in the dataset is described by a 01valued word vector indicating the absencepresence of the corresponding word from the dictionary the dictionary consists of 1433 unique words the readme file in the dataset provides more details download link httpslinqsdatasoeucscedupubliclbccoratgz related papers qing lu and lise getoor linkbased classification icml 2003 prithviraj sen et al collective classification in network data ai magazine 2008 other useful datasets link citation dataset httpslinqssoeucscedudata heteregeneous graph datasets imdb datasets movielens latest dataset which consists of 33000 movies and it contains four types of nodes movie director actor and actress connected by two types of relationslink directed link and actoractress staring link each movie is assigned with a set of class labels indicating generes of the movie for each movie we extract a bag of words vector of all the plot summary about the movie as local features which include 1000 words download link httpsgithubcomtrangptmcolumnnetworkstreemasterdata related papers t pham et al column networks for collective classification in aaai 2017 zhang yizhou et al deep collective classification in heterogeneous information networks in www 2018 other useful dataset links processed datasets httpsgithubcomlibrahuheterogeneousinformationnetworkdatasetsforrecommendationandnetworkembeddingblobmasterreadmemd octavian eugen ganea httppeopleinfethzchganeao maximilian nickel httpsmnickgithubioprojectgeometricrepresentationlearning chuan shi httpshichuanorgshichuanchhtml xing xie httpswwwmicrosoftcomenusresearchpeoplexingxrepresentativepublications tim dettmers httptimdettmerscomabout seyed mehran kazemi httpswwwcsubccasmkazemi xiangnan he httpswwwcompnusedusgxiangnan hongwei wang httpshwwang55githubio peng cui httppengcuithumedialabcom william l hamilton httpswilliamleifgithubio yue gao httpwwwgaoyueorgtsinghuapubsindexhtm xiaofei he httpwwwcadzjueducnhomexiaofeihe thomas n kipf httpstkipfgithubio max welling httpsstafffnwiuvanlmwelling rex ying httpscsstanfordedupeoplerexy lei zheng httpslzheng21githubiopublications jure leskovec httpscsstanfordedujure wangcheng kang httpcsewebucsdeduwckang julian mcauley httpscsewebucsdedujmcauley rana hussein httpsexascaleinfomembersranahussein yuxiao dong httpsericdongyxgithubio renjie liao httpwwwcstorontoedurjliao min zhang httpwwwthuirorggroupmzhang yao ma httpcsemsuedumayao4publicationshtml jiliang tang httpwwwcsemsuedutangjilipublicationhtml jian tang httpsjiantangcom keyulu xu httpkeyuluxcom '"
      ]
     },
     "execution_count": 10,
     "metadata": {},
     "output_type": "execute_result"
    }
   ],
   "source": [
    "readme_df['lex_rank'][0]"
   ]
  },
  {
   "cell_type": "code",
   "execution_count": null,
   "metadata": {},
   "outputs": [],
   "source": []
  }
 ],
 "metadata": {
  "kernelspec": {
   "display_name": "ml",
   "language": "python",
   "name": "ml"
  },
  "language_info": {
   "codemirror_mode": {
    "name": "ipython",
    "version": 3
   },
   "file_extension": ".py",
   "mimetype": "text/x-python",
   "name": "python",
   "nbconvert_exporter": "python",
   "pygments_lexer": "ipython3",
   "version": "3.7.6"
  }
 },
 "nbformat": 4,
 "nbformat_minor": 4
}
