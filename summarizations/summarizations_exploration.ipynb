{
 "metadata": {
  "language_info": {
   "codemirror_mode": {
    "name": "ipython",
    "version": 3
   },
   "file_extension": ".py",
   "mimetype": "text/x-python",
   "name": "python",
   "nbconvert_exporter": "python",
   "pygments_lexer": "ipython3",
   "version": "3.7.6-final"
  },
  "orig_nbformat": 2,
  "kernelspec": {
   "name": "ml",
   "display_name": "ml"
  }
 },
 "nbformat": 4,
 "nbformat_minor": 2,
 "cells": [
  {
   "cell_type": "code",
   "execution_count": 1,
   "metadata": {},
   "outputs": [],
   "source": [
    "import pandas as pd\n",
    "df = pd.read_csv('/Users/vincenthuang/Development/Summer-2020/readme_summarizer/data/summarizations/summarizations.csv')"
   ]
  },
  {
   "cell_type": "code",
   "execution_count": 4,
   "metadata": {},
   "outputs": [],
   "source": [
    "df = df.drop('Unnamed: 0', 1).drop('Unnamed: 0.1', 1)"
   ]
  },
  {
   "cell_type": "code",
   "execution_count": 5,
   "metadata": {},
   "outputs": [
    {
     "output_type": "execute_result",
     "data": {
      "text/plain": "          id                                               link  \\\n0  137115671     https://api.github.com/repos/wqtshg/sdk-ezdvpp   \n1  136599221  https://api.github.com/repos/OrionStar25/Modul...   \n2  136636607  https://api.github.com/repos/kummababo/learnin...   \n3  136730783  https://api.github.com/repos/switchdin/react-g...   \n4  136794632  https://api.github.com/repos/AlexDoudelet/Comp...   \n\n                                             summary  \\\n0    Codes for transforming/resizing/croping picture   \n1  A python library and CLI tool for extracting t...   \n2  The code samples for Learning React by Alex Ba...   \n3       React component for displaying a gauge chart   \n4  PowerShell scripts to compare 2 csv files with...   \n\n                                             purpose  \\\n0                transformingresizingcroping picture   \n1  extracting translatable strings and generating...   \n2  Learning React by Alex Banks and Eve Porcello ...   \n3                           displaying a gauge chart   \n4  compare 2 csv files with and without data cleanup   \n\n                                            lex_rank  \\\n0  the methods of using ezdvpp apis are as follow...   \n1  cli usage extract translatable strings to extr...   \n2  learning react the code samples for learning r...   \n3  if the number of colors does not match the num...   \n4  this file is written the 23rd of may 2019. thi...   \n\n                                            edmunson  \\\n0  encn the ezdvpp encapsulates the dvpp apis to ...   \n1  modulemdtranslationhelpers prerequisites libmo...   \n2  learning react the code samples for learning r...   \n3  reactgaugechart react component for displaying...   \n4  this file is written the 23rd of may 2019. thi...   \n\n                                             lead_cm  \\\n0  encn the ezdvpp encapsulates the dvpp apis to ...   \n1  modulemdtranslationhelpers prerequisites libmo...   \n2  learning react the code samples for learning r...   \n3  reactgaugechart react component for displaying...   \n4  this file is written the 23rd of may 2019. thi...   \n\n                                        prsummarizer  \n0                simplify the calls the image format  \n1                           dealing on fedora 28 run  \n2  learning react by alex banks and eve porcello ...  \n3                displaying a gauge chart using d3js  \n4                      read the report file 5contact  ",
      "text/html": "<div>\n<style scoped>\n    .dataframe tbody tr th:only-of-type {\n        vertical-align: middle;\n    }\n\n    .dataframe tbody tr th {\n        vertical-align: top;\n    }\n\n    .dataframe thead th {\n        text-align: right;\n    }\n</style>\n<table border=\"1\" class=\"dataframe\">\n  <thead>\n    <tr style=\"text-align: right;\">\n      <th></th>\n      <th>id</th>\n      <th>link</th>\n      <th>summary</th>\n      <th>purpose</th>\n      <th>lex_rank</th>\n      <th>edmunson</th>\n      <th>lead_cm</th>\n      <th>prsummarizer</th>\n    </tr>\n  </thead>\n  <tbody>\n    <tr>\n      <th>0</th>\n      <td>137115671</td>\n      <td>https://api.github.com/repos/wqtshg/sdk-ezdvpp</td>\n      <td>Codes for transforming/resizing/croping picture</td>\n      <td>transformingresizingcroping picture</td>\n      <td>the methods of using ezdvpp apis are as follow...</td>\n      <td>encn the ezdvpp encapsulates the dvpp apis to ...</td>\n      <td>encn the ezdvpp encapsulates the dvpp apis to ...</td>\n      <td>simplify the calls the image format</td>\n    </tr>\n    <tr>\n      <th>1</th>\n      <td>136599221</td>\n      <td>https://api.github.com/repos/OrionStar25/Modul...</td>\n      <td>A python library and CLI tool for extracting t...</td>\n      <td>extracting translatable strings and generating...</td>\n      <td>cli usage extract translatable strings to extr...</td>\n      <td>modulemdtranslationhelpers prerequisites libmo...</td>\n      <td>modulemdtranslationhelpers prerequisites libmo...</td>\n      <td>dealing on fedora 28 run</td>\n    </tr>\n    <tr>\n      <th>2</th>\n      <td>136636607</td>\n      <td>https://api.github.com/repos/kummababo/learnin...</td>\n      <td>The code samples for Learning React by Alex Ba...</td>\n      <td>Learning React by Alex Banks and Eve Porcello ...</td>\n      <td>learning react the code samples for learning r...</td>\n      <td>learning react the code samples for learning r...</td>\n      <td>learning react the code samples for learning r...</td>\n      <td>learning react by alex banks and eve porcello ...</td>\n    </tr>\n    <tr>\n      <th>3</th>\n      <td>136730783</td>\n      <td>https://api.github.com/repos/switchdin/react-g...</td>\n      <td>React component for displaying a gauge chart</td>\n      <td>displaying a gauge chart</td>\n      <td>if the number of colors does not match the num...</td>\n      <td>reactgaugechart react component for displaying...</td>\n      <td>reactgaugechart react component for displaying...</td>\n      <td>displaying a gauge chart using d3js</td>\n    </tr>\n    <tr>\n      <th>4</th>\n      <td>136794632</td>\n      <td>https://api.github.com/repos/AlexDoudelet/Comp...</td>\n      <td>PowerShell scripts to compare 2 csv files with...</td>\n      <td>compare 2 csv files with and without data cleanup</td>\n      <td>this file is written the 23rd of may 2019. thi...</td>\n      <td>this file is written the 23rd of may 2019. thi...</td>\n      <td>this file is written the 23rd of may 2019. thi...</td>\n      <td>read the report file 5contact</td>\n    </tr>\n  </tbody>\n</table>\n</div>"
     },
     "metadata": {},
     "execution_count": 5
    }
   ],
   "source": [
    "\n",
    "df.head()"
   ]
  },
  {
   "cell_type": "code",
   "execution_count": 13,
   "metadata": {},
   "outputs": [],
   "source": [
    "\n",
    "def calculate_avg_length(df, col):\n",
    "    lengths = df[col].apply(lambda s: len(s.split()))\n",
    "    return lengths.sum() / len(lengths)"
   ]
  },
  {
   "cell_type": "code",
   "execution_count": 14,
   "metadata": {
    "tags": []
   },
   "outputs": [
    {
     "output_type": "stream",
     "name": "stdout",
     "text": "14.913761467889909\n"
    }
   ],
   "source": [
    "print(calculate_avg_length(df, 'summary'))"
   ]
  },
  {
   "cell_type": "code",
   "execution_count": 15,
   "metadata": {
    "tags": []
   },
   "outputs": [
    {
     "output_type": "stream",
     "name": "stdout",
     "text": "6.632110091743119\n"
    }
   ],
   "source": [
    "print(calculate_avg_length(df, 'purpose'))"
   ]
  },
  {
   "cell_type": "code",
   "execution_count": 16,
   "metadata": {
    "tags": []
   },
   "outputs": [
    {
     "output_type": "stream",
     "name": "stdout",
     "text": "47.627522935779815\n"
    }
   ],
   "source": [
    "print(calculate_avg_length(df, 'lex_rank'))"
   ]
  },
  {
   "cell_type": "code",
   "execution_count": 17,
   "metadata": {
    "tags": []
   },
   "outputs": [
    {
     "output_type": "stream",
     "name": "stdout",
     "text": "33.26146788990825\n"
    }
   ],
   "source": [
    "print(calculate_avg_length(df, 'edmunson'))"
   ]
  },
  {
   "cell_type": "code",
   "execution_count": 20,
   "metadata": {
    "tags": []
   },
   "outputs": [
    {
     "output_type": "stream",
     "name": "stdout",
     "text": "24.98256880733945\n"
    }
   ],
   "source": [
    "print(calculate_avg_length(df, 'lead_cm'))"
   ]
  },
  {
   "cell_type": "code",
   "execution_count": 21,
   "metadata": {
    "tags": []
   },
   "outputs": [
    {
     "output_type": "stream",
     "name": "stdout",
     "text": "6.9568807339449545\n"
    }
   ],
   "source": [
    "print(calculate_avg_length(df, 'prsummarizer'))"
   ]
  },
  {
   "cell_type": "code",
   "execution_count": null,
   "metadata": {},
   "outputs": [],
   "source": []
  }
 ]
}